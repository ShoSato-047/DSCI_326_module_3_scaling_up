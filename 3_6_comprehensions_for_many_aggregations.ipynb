{
 "cells": [
  {
   "cell_type": "markdown",
   "metadata": {},
   "source": [
    "# Applying many similar aggregations.\n",
    "\n",
    "Now suppose we want to compute a large number of similar aggregations, one for each of a collection of columns.  A similar approach will allow us to accomplish this task regardless of the number of columns."
   ]
  },
  {
   "cell_type": "code",
   "execution_count": 2,
   "metadata": {},
   "outputs": [],
   "source": [
    "import polars as pl"
   ]
  },
  {
   "cell_type": "markdown",
   "metadata": {},
   "source": [
    "## Data set\n",
    "\n",
    "We will be using two of the data sets provided by the Museam of Modern Art (MoMA) in this lecture.  Make sure that you have downloaded each repository.  [Download Instructions](./get_MOMA_data.ipynb)"
   ]
  },
  {
   "cell_type": "markdown",
   "metadata": {},
   "source": [
    "#### MoMA Artwork"
   ]
  },
  {
   "cell_type": "markdown",
   "metadata": {},
   "source": [
    "**Note.** The last two columns should also be of type `pl.Float`.  Let's define a schema using a `dict` comprehension."
   ]
  },
  {
   "cell_type": "code",
   "execution_count": 3,
   "metadata": {},
   "outputs": [
    {
     "data": {
      "text/html": [
       "<div><style>\n",
       ".dataframe > thead > tr,\n",
       ".dataframe > tbody > tr {\n",
       "  text-align: right;\n",
       "  white-space: pre-wrap;\n",
       "}\n",
       "</style>\n",
       "<small>shape: (2, 29)</small><table border=\"1\" class=\"dataframe\"><thead><tr><th>Title</th><th>Artist</th><th>ConstituentID</th><th>ArtistBio</th><th>Nationality</th><th>BeginDate</th><th>EndDate</th><th>Gender</th><th>Date</th><th>Medium</th><th>Dimensions</th><th>CreditLine</th><th>AccessionNumber</th><th>Classification</th><th>Department</th><th>DateAcquired</th><th>Cataloged</th><th>ObjectID</th><th>URL</th><th>ThumbnailURL</th><th>Circumference (cm)</th><th>Depth (cm)</th><th>Diameter (cm)</th><th>Height (cm)</th><th>Length (cm)</th><th>Weight (kg)</th><th>Width (cm)</th><th>Seat Height (cm)</th><th>Duration (sec.)</th></tr><tr><td>str</td><td>str</td><td>str</td><td>str</td><td>str</td><td>str</td><td>str</td><td>str</td><td>str</td><td>str</td><td>str</td><td>str</td><td>str</td><td>str</td><td>str</td><td>str</td><td>str</td><td>i64</td><td>str</td><td>str</td><td>f64</td><td>f64</td><td>f64</td><td>f64</td><td>f64</td><td>f64</td><td>f64</td><td>str</td><td>str</td></tr></thead><tbody><tr><td>&quot;Ferdinandsbrücke Project, Vien…</td><td>&quot;Otto Wagner&quot;</td><td>&quot;6210&quot;</td><td>&quot;(Austrian, 1841–1918)&quot;</td><td>&quot;(Austrian)&quot;</td><td>&quot;(1841)&quot;</td><td>&quot;(1918)&quot;</td><td>&quot;(Male)&quot;</td><td>&quot;1896&quot;</td><td>&quot;Ink and cut-and-pasted painted…</td><td>&quot;19 1/8 x 66 1/2&quot; (48.6 x 168.9…</td><td>&quot;Fractional and promised gift o…</td><td>&quot;885.1996&quot;</td><td>&quot;Architecture&quot;</td><td>&quot;Architecture &amp; Design&quot;</td><td>&quot;1996-04-09&quot;</td><td>&quot;Y&quot;</td><td>2</td><td>&quot;http://www.moma.org/collection…</td><td>&quot;http://www.moma.org/media/W1si…</td><td>null</td><td>null</td><td>null</td><td>48.6</td><td>null</td><td>null</td><td>168.9</td><td>null</td><td>null</td></tr><tr><td>&quot;City of Music, National Superi…</td><td>&quot;Christian de Portzamparc&quot;</td><td>&quot;7470&quot;</td><td>&quot;(French, born 1944)&quot;</td><td>&quot;(French)&quot;</td><td>&quot;(1944)&quot;</td><td>&quot;(0)&quot;</td><td>&quot;(Male)&quot;</td><td>&quot;1987&quot;</td><td>&quot;Paint and colored pencil on pr…</td><td>&quot;16 x 11 3/4&quot; (40.6 x 29.8 cm)&quot;</td><td>&quot;Gift of the architect in honor…</td><td>&quot;1.1995&quot;</td><td>&quot;Architecture&quot;</td><td>&quot;Architecture &amp; Design&quot;</td><td>&quot;1995-01-17&quot;</td><td>&quot;Y&quot;</td><td>3</td><td>&quot;http://www.moma.org/collection…</td><td>&quot;http://www.moma.org/media/W1si…</td><td>null</td><td>null</td><td>null</td><td>40.6401</td><td>null</td><td>null</td><td>29.8451</td><td>null</td><td>null</td></tr></tbody></table></div>"
      ],
      "text/plain": [
       "shape: (2, 29)\n",
       "┌───────────┬───────────┬───────────┬───────────┬───┬───────────┬───────────┬───────────┬──────────┐\n",
       "│ Title     ┆ Artist    ┆ Constitue ┆ ArtistBio ┆ … ┆ Weight    ┆ Width     ┆ Seat      ┆ Duration │\n",
       "│ ---       ┆ ---       ┆ ntID      ┆ ---       ┆   ┆ (kg)      ┆ (cm)      ┆ Height    ┆ (sec.)   │\n",
       "│ str       ┆ str       ┆ ---       ┆ str       ┆   ┆ ---       ┆ ---       ┆ (cm)      ┆ ---      │\n",
       "│           ┆           ┆ str       ┆           ┆   ┆ f64       ┆ f64       ┆ ---       ┆ str      │\n",
       "│           ┆           ┆           ┆           ┆   ┆           ┆           ┆ str       ┆          │\n",
       "╞═══════════╪═══════════╪═══════════╪═══════════╪═══╪═══════════╪═══════════╪═══════════╪══════════╡\n",
       "│ Ferdinand ┆ Otto      ┆ 6210      ┆ (Austrian ┆ … ┆ null      ┆ 168.9     ┆ null      ┆ null     │\n",
       "│ sbrücke   ┆ Wagner    ┆           ┆ , 1841–19 ┆   ┆           ┆           ┆           ┆          │\n",
       "│ Project,  ┆           ┆           ┆ 18)       ┆   ┆           ┆           ┆           ┆          │\n",
       "│ Vien…     ┆           ┆           ┆           ┆   ┆           ┆           ┆           ┆          │\n",
       "│ City of   ┆ Christian ┆ 7470      ┆ (French,  ┆ … ┆ null      ┆ 29.8451   ┆ null      ┆ null     │\n",
       "│ Music,    ┆ de Portza ┆           ┆ born      ┆   ┆           ┆           ┆           ┆          │\n",
       "│ National  ┆ mparc     ┆           ┆ 1944)     ┆   ┆           ┆           ┆           ┆          │\n",
       "│ Superi…   ┆           ┆           ┆           ┆   ┆           ┆           ┆           ┆          │\n",
       "└───────────┴───────────┴───────────┴───────────┴───┴───────────┴───────────┴───────────┴──────────┘"
      ]
     },
     "execution_count": 3,
     "metadata": {},
     "output_type": "execute_result"
    }
   ],
   "source": [
    "artwork = (pl.read_csv(\"./data/Artworks.csv\", infer_schema_length=50000)\n",
    "          )\n",
    "artwork.head(2)"
   ]
  },
  {
   "cell_type": "markdown",
   "metadata": {},
   "source": [
    "###  Comprehensions EVERYWHERE!\n",
    "\n",
    "**Comprehension mindset.** Whenever creating a `list`/`tuple`/`dict`/`set`, automate the process with a comprehension.\n",
    "\n",
    "**Current task.** Create a schema `dict` that correctly sets all dimension columns to `float`.\n",
    "\n",
    "**Strategy.** Use a comprehension and the fact all dimension columns end in `')'` to create the schema."
   ]
  },
  {
   "cell_type": "code",
   "execution_count": 4,
   "metadata": {},
   "outputs": [
    {
     "data": {
      "text/plain": [
       "{'Title': String,\n",
       " 'Artist': String,\n",
       " 'ConstituentID': String,\n",
       " 'ArtistBio': String,\n",
       " 'Nationality': String,\n",
       " 'BeginDate': String,\n",
       " 'EndDate': String,\n",
       " 'Gender': String,\n",
       " 'Date': String,\n",
       " 'Medium': String,\n",
       " 'Dimensions': String,\n",
       " 'CreditLine': String,\n",
       " 'AccessionNumber': String,\n",
       " 'Classification': String,\n",
       " 'Department': String,\n",
       " 'DateAcquired': String,\n",
       " 'Cataloged': String,\n",
       " 'ObjectID': String,\n",
       " 'URL': String,\n",
       " 'ThumbnailURL': String,\n",
       " 'Circumference (cm)': Float64,\n",
       " 'Depth (cm)': Float64,\n",
       " 'Diameter (cm)': Float64,\n",
       " 'Height (cm)': Float64,\n",
       " 'Length (cm)': Float64,\n",
       " 'Weight (kg)': Float64,\n",
       " 'Width (cm)': Float64,\n",
       " 'Seat Height (cm)': Float64,\n",
       " 'Duration (sec.)': Float64}"
      ]
     },
     "execution_count": 4,
     "metadata": {},
     "output_type": "execute_result"
    }
   ],
   "source": [
    "artwork_schema = {col: pl.Float64 if col.endswith(')') else pl.String for col in artwork.columns}\n",
    "\n",
    "artwork_schema"
   ]
  },
  {
   "cell_type": "code",
   "execution_count": 5,
   "metadata": {},
   "outputs": [
    {
     "data": {
      "text/html": [
       "<div><style>\n",
       ".dataframe > thead > tr,\n",
       ".dataframe > tbody > tr {\n",
       "  text-align: right;\n",
       "  white-space: pre-wrap;\n",
       "}\n",
       "</style>\n",
       "<small>shape: (2, 29)</small><table border=\"1\" class=\"dataframe\"><thead><tr><th>Title</th><th>Artist</th><th>ConstituentID</th><th>ArtistBio</th><th>Nationality</th><th>BeginDate</th><th>EndDate</th><th>Gender</th><th>Date</th><th>Medium</th><th>Dimensions</th><th>CreditLine</th><th>AccessionNumber</th><th>Classification</th><th>Department</th><th>DateAcquired</th><th>Cataloged</th><th>ObjectID</th><th>URL</th><th>ThumbnailURL</th><th>Circumference (cm)</th><th>Depth (cm)</th><th>Diameter (cm)</th><th>Height (cm)</th><th>Length (cm)</th><th>Weight (kg)</th><th>Width (cm)</th><th>Seat Height (cm)</th><th>Duration (sec.)</th></tr><tr><td>str</td><td>str</td><td>str</td><td>str</td><td>str</td><td>str</td><td>str</td><td>str</td><td>str</td><td>str</td><td>str</td><td>str</td><td>str</td><td>str</td><td>str</td><td>str</td><td>str</td><td>str</td><td>str</td><td>str</td><td>f64</td><td>f64</td><td>f64</td><td>f64</td><td>f64</td><td>f64</td><td>f64</td><td>f64</td><td>f64</td></tr></thead><tbody><tr><td>&quot;Ferdinandsbrücke Project, Vien…</td><td>&quot;Otto Wagner&quot;</td><td>&quot;6210&quot;</td><td>&quot;(Austrian, 1841–1918)&quot;</td><td>&quot;(Austrian)&quot;</td><td>&quot;(1841)&quot;</td><td>&quot;(1918)&quot;</td><td>&quot;(Male)&quot;</td><td>&quot;1896&quot;</td><td>&quot;Ink and cut-and-pasted painted…</td><td>&quot;19 1/8 x 66 1/2&quot; (48.6 x 168.9…</td><td>&quot;Fractional and promised gift o…</td><td>&quot;885.1996&quot;</td><td>&quot;Architecture&quot;</td><td>&quot;Architecture &amp; Design&quot;</td><td>&quot;1996-04-09&quot;</td><td>&quot;Y&quot;</td><td>&quot;2&quot;</td><td>&quot;http://www.moma.org/collection…</td><td>&quot;http://www.moma.org/media/W1si…</td><td>null</td><td>null</td><td>null</td><td>48.6</td><td>null</td><td>null</td><td>168.9</td><td>null</td><td>null</td></tr><tr><td>&quot;City of Music, National Superi…</td><td>&quot;Christian de Portzamparc&quot;</td><td>&quot;7470&quot;</td><td>&quot;(French, born 1944)&quot;</td><td>&quot;(French)&quot;</td><td>&quot;(1944)&quot;</td><td>&quot;(0)&quot;</td><td>&quot;(Male)&quot;</td><td>&quot;1987&quot;</td><td>&quot;Paint and colored pencil on pr…</td><td>&quot;16 x 11 3/4&quot; (40.6 x 29.8 cm)&quot;</td><td>&quot;Gift of the architect in honor…</td><td>&quot;1.1995&quot;</td><td>&quot;Architecture&quot;</td><td>&quot;Architecture &amp; Design&quot;</td><td>&quot;1995-01-17&quot;</td><td>&quot;Y&quot;</td><td>&quot;3&quot;</td><td>&quot;http://www.moma.org/collection…</td><td>&quot;http://www.moma.org/media/W1si…</td><td>null</td><td>null</td><td>null</td><td>40.6401</td><td>null</td><td>null</td><td>29.8451</td><td>null</td><td>null</td></tr></tbody></table></div>"
      ],
      "text/plain": [
       "shape: (2, 29)\n",
       "┌───────────┬───────────┬───────────┬───────────┬───┬───────────┬───────────┬───────────┬──────────┐\n",
       "│ Title     ┆ Artist    ┆ Constitue ┆ ArtistBio ┆ … ┆ Weight    ┆ Width     ┆ Seat      ┆ Duration │\n",
       "│ ---       ┆ ---       ┆ ntID      ┆ ---       ┆   ┆ (kg)      ┆ (cm)      ┆ Height    ┆ (sec.)   │\n",
       "│ str       ┆ str       ┆ ---       ┆ str       ┆   ┆ ---       ┆ ---       ┆ (cm)      ┆ ---      │\n",
       "│           ┆           ┆ str       ┆           ┆   ┆ f64       ┆ f64       ┆ ---       ┆ f64      │\n",
       "│           ┆           ┆           ┆           ┆   ┆           ┆           ┆ f64       ┆          │\n",
       "╞═══════════╪═══════════╪═══════════╪═══════════╪═══╪═══════════╪═══════════╪═══════════╪══════════╡\n",
       "│ Ferdinand ┆ Otto      ┆ 6210      ┆ (Austrian ┆ … ┆ null      ┆ 168.9     ┆ null      ┆ null     │\n",
       "│ sbrücke   ┆ Wagner    ┆           ┆ , 1841–19 ┆   ┆           ┆           ┆           ┆          │\n",
       "│ Project,  ┆           ┆           ┆ 18)       ┆   ┆           ┆           ┆           ┆          │\n",
       "│ Vien…     ┆           ┆           ┆           ┆   ┆           ┆           ┆           ┆          │\n",
       "│ City of   ┆ Christian ┆ 7470      ┆ (French,  ┆ … ┆ null      ┆ 29.8451   ┆ null      ┆ null     │\n",
       "│ Music,    ┆ de Portza ┆           ┆ born      ┆   ┆           ┆           ┆           ┆          │\n",
       "│ National  ┆ mparc     ┆           ┆ 1944)     ┆   ┆           ┆           ┆           ┆          │\n",
       "│ Superi…   ┆           ┆           ┆           ┆   ┆           ┆           ┆           ┆          │\n",
       "└───────────┴───────────┴───────────┴───────────┴───┴───────────┴───────────┴───────────┴──────────┘"
      ]
     },
     "execution_count": 5,
     "metadata": {},
     "output_type": "execute_result"
    }
   ],
   "source": [
    "artwork = (pl.read_csv(\"./data/Artworks.csv\", schema=artwork_schema)\n",
    "          )\n",
    "artwork.head(2)"
   ]
  },
  {
   "cell_type": "markdown",
   "metadata": {},
   "source": [
    "## A WET transformation - using alias\n",
    "\n",
    "This solution is WET, not DRY, as all 9 of the expressions in mutate are very similar ... if only here was a way to perform these similar expressions all at once ..."
   ]
  },
  {
   "cell_type": "code",
   "execution_count": 6,
   "metadata": {},
   "outputs": [
    {
     "data": {
      "text/html": [
       "<div><style>\n",
       ".dataframe > thead > tr,\n",
       ".dataframe > tbody > tr {\n",
       "  text-align: right;\n",
       "  white-space: pre-wrap;\n",
       "}\n",
       "</style>\n",
       "<small>shape: (32, 10)</small><table border=\"1\" class=\"dataframe\"><thead><tr><th>Classification</th><th>Mean Circumference (cm)</th><th>Mean Depth (cm)</th><th>Mean Diameter (cm)</th><th>Mean Height (cm)</th><th>Mean Length (cm)</th><th>Mean Weight (kg)</th><th>Mean Width (cm)</th><th>Mean Seat Height (cm)</th><th>Mean Duration (sec.)</th></tr><tr><td>str</td><td>f64</td><td>f64</td><td>f64</td><td>f64</td><td>f64</td><td>f64</td><td>f64</td><td>f64</td><td>f64</td></tr></thead><tbody><tr><td>&quot;Work on Paper&quot;</td><td>NaN</td><td>1.209352</td><td>NaN</td><td>83.666016</td><td>NaN</td><td>NaN</td><td>78.392955</td><td>NaN</td><td>NaN</td></tr><tr><td>&quot;Sculpture&quot;</td><td>NaN</td><td>57.139591</td><td>106.085079</td><td>105.494561</td><td>465.3702</td><td>1387.632147</td><td>103.907527</td><td>NaN</td><td>1860.0</td></tr><tr><td>&quot;Mies van der Rohe Archive&quot;</td><td>NaN</td><td>22.5</td><td>NaN</td><td>41.44568</td><td>NaN</td><td>90.7194</td><td>56.195844</td><td>NaN</td><td>NaN</td></tr><tr><td>&quot;Graphic Design&quot;</td><td>NaN</td><td>0.0</td><td>NaN</td><td>326.597574</td><td>NaN</td><td>NaN</td><td>54.28382</td><td>NaN</td><td>NaN</td></tr><tr><td>&quot;Design&quot;</td><td>77.860067</td><td>25.939486</td><td>18.215681</td><td>53.600846</td><td>86.081085</td><td>523.133433</td><td>50.063999</td><td>NaN</td><td>6593.166667</td></tr><tr><td>&hellip;</td><td>&hellip;</td><td>&hellip;</td><td>&hellip;</td><td>&hellip;</td><td>&hellip;</td><td>&hellip;</td><td>&hellip;</td><td>&hellip;</td><td>&hellip;</td></tr><tr><td>&quot;Collage&quot;</td><td>NaN</td><td>2.1875</td><td>NaN</td><td>70.355261</td><td>NaN</td><td>NaN</td><td>103.505515</td><td>NaN</td><td>NaN</td></tr><tr><td>&quot;Performance&quot;</td><td>NaN</td><td>29.111299</td><td>NaN</td><td>130.39205</td><td>NaN</td><td>NaN</td><td>131.951426</td><td>NaN</td><td>600.0</td></tr><tr><td>&quot;Photography Research/Reference&quot;</td><td>NaN</td><td>NaN</td><td>NaN</td><td>45.55</td><td>NaN</td><td>NaN</td><td>34.8</td><td>NaN</td><td>6120.0</td></tr><tr><td>&quot;Architectural Model&quot;</td><td>NaN</td><td>8.890018</td><td>NaN</td><td>44.450089</td><td>NaN</td><td>NaN</td><td>44.450089</td><td>NaN</td><td>NaN</td></tr><tr><td>&quot;Poster&quot;</td><td>NaN</td><td>0.0</td><td>NaN</td><td>98.16542</td><td>NaN</td><td>NaN</td><td>70.427396</td><td>NaN</td><td>NaN</td></tr></tbody></table></div>"
      ],
      "text/plain": [
       "shape: (32, 10)\n",
       "┌───────────┬───────────┬───────────┬───────────┬───┬───────────┬───────────┬───────────┬──────────┐\n",
       "│ Classific ┆ Mean Circ ┆ Mean      ┆ Mean      ┆ … ┆ Mean      ┆ Mean      ┆ Mean Seat ┆ Mean     │\n",
       "│ ation     ┆ umference ┆ Depth     ┆ Diameter  ┆   ┆ Weight    ┆ Width     ┆ Height    ┆ Duration │\n",
       "│ ---       ┆ (cm)      ┆ (cm)      ┆ (cm)      ┆   ┆ (kg)      ┆ (cm)      ┆ (cm)      ┆ (sec.)   │\n",
       "│ str       ┆ ---       ┆ ---       ┆ ---       ┆   ┆ ---       ┆ ---       ┆ ---       ┆ ---      │\n",
       "│           ┆ f64       ┆ f64       ┆ f64       ┆   ┆ f64       ┆ f64       ┆ f64       ┆ f64      │\n",
       "╞═══════════╪═══════════╪═══════════╪═══════════╪═══╪═══════════╪═══════════╪═══════════╪══════════╡\n",
       "│ Work on   ┆ NaN       ┆ 1.209352  ┆ NaN       ┆ … ┆ NaN       ┆ 78.392955 ┆ NaN       ┆ NaN      │\n",
       "│ Paper     ┆           ┆           ┆           ┆   ┆           ┆           ┆           ┆          │\n",
       "│ Sculpture ┆ NaN       ┆ 57.139591 ┆ 106.08507 ┆ … ┆ 1387.6321 ┆ 103.90752 ┆ NaN       ┆ 1860.0   │\n",
       "│           ┆           ┆           ┆ 9         ┆   ┆ 47        ┆ 7         ┆           ┆          │\n",
       "│ Mies van  ┆ NaN       ┆ 22.5      ┆ NaN       ┆ … ┆ 90.7194   ┆ 56.195844 ┆ NaN       ┆ NaN      │\n",
       "│ der Rohe  ┆           ┆           ┆           ┆   ┆           ┆           ┆           ┆          │\n",
       "│ Archive   ┆           ┆           ┆           ┆   ┆           ┆           ┆           ┆          │\n",
       "│ Graphic   ┆ NaN       ┆ 0.0       ┆ NaN       ┆ … ┆ NaN       ┆ 54.28382  ┆ NaN       ┆ NaN      │\n",
       "│ Design    ┆           ┆           ┆           ┆   ┆           ┆           ┆           ┆          │\n",
       "│ Design    ┆ 77.860067 ┆ 25.939486 ┆ 18.215681 ┆ … ┆ 523.13343 ┆ 50.063999 ┆ NaN       ┆ 6593.166 │\n",
       "│           ┆           ┆           ┆           ┆   ┆ 3         ┆           ┆           ┆ 667      │\n",
       "│ …         ┆ …         ┆ …         ┆ …         ┆ … ┆ …         ┆ …         ┆ …         ┆ …        │\n",
       "│ Collage   ┆ NaN       ┆ 2.1875    ┆ NaN       ┆ … ┆ NaN       ┆ 103.50551 ┆ NaN       ┆ NaN      │\n",
       "│           ┆           ┆           ┆           ┆   ┆           ┆ 5         ┆           ┆          │\n",
       "│ Performan ┆ NaN       ┆ 29.111299 ┆ NaN       ┆ … ┆ NaN       ┆ 131.95142 ┆ NaN       ┆ 600.0    │\n",
       "│ ce        ┆           ┆           ┆           ┆   ┆           ┆ 6         ┆           ┆          │\n",
       "│ Photograp ┆ NaN       ┆ NaN       ┆ NaN       ┆ … ┆ NaN       ┆ 34.8      ┆ NaN       ┆ 6120.0   │\n",
       "│ hy Resear ┆           ┆           ┆           ┆   ┆           ┆           ┆           ┆          │\n",
       "│ ch/Refere ┆           ┆           ┆           ┆   ┆           ┆           ┆           ┆          │\n",
       "│ nce       ┆           ┆           ┆           ┆   ┆           ┆           ┆           ┆          │\n",
       "│ Architect ┆ NaN       ┆ 8.890018  ┆ NaN       ┆ … ┆ NaN       ┆ 44.450089 ┆ NaN       ┆ NaN      │\n",
       "│ ural      ┆           ┆           ┆           ┆   ┆           ┆           ┆           ┆          │\n",
       "│ Model     ┆           ┆           ┆           ┆   ┆           ┆           ┆           ┆          │\n",
       "│ Poster    ┆ NaN       ┆ 0.0       ┆ NaN       ┆ … ┆ NaN       ┆ 70.427396 ┆ NaN       ┆ NaN      │\n",
       "└───────────┴───────────┴───────────┴───────────┴───┴───────────┴───────────┴───────────┴──────────┘"
      ]
     },
     "execution_count": 6,
     "metadata": {},
     "output_type": "execute_result"
    }
   ],
   "source": [
    "# Input expressions as positional arguments.\n",
    "(artwork\n",
    " .group_by('Classification')\n",
    " .agg(pl.col('Circumference (cm)').mean().alias('Mean Circumference (cm)'),\n",
    "      pl.col('Depth (cm)').mean().alias('Mean Depth (cm)'),\n",
    "      pl.col('Diameter (cm)').mean().alias('Mean Diameter (cm)'),\n",
    "      pl.col('Height (cm)').mean().alias('Mean Height (cm)'),\n",
    "      pl.col('Length (cm)').mean().alias('Mean Length (cm)'),\n",
    "      pl.col('Weight (kg)').mean().alias('Mean Weight (kg)'),\n",
    "      pl.col('Width (cm)').mean().alias('Mean Width (cm)'),\n",
    "      pl.col('Seat Height (cm)').mean().alias('Mean Seat Height (cm)'),\n",
    "      pl.col('Duration (sec.)').mean().alias('Mean Duration (sec.)'),\n",
    "     )\n",
    ")"
   ]
  },
  {
   "cell_type": "code",
   "execution_count": 7,
   "metadata": {},
   "outputs": [
    {
     "data": {
      "text/html": [
       "<div><style>\n",
       ".dataframe > thead > tr,\n",
       ".dataframe > tbody > tr {\n",
       "  text-align: right;\n",
       "  white-space: pre-wrap;\n",
       "}\n",
       "</style>\n",
       "<small>shape: (32, 10)</small><table border=\"1\" class=\"dataframe\"><thead><tr><th>Classification</th><th>Mean Circumference (cm)</th><th>Mean Depth (cm)</th><th>Mean Diameter (cm)</th><th>Mean Height (cm)</th><th>Mean Length (cm)</th><th>Mean Weight (kg)</th><th>Mean Width (cm)</th><th>Mean Seat Height (cm)</th><th>Mean Duration (sec.)</th></tr><tr><td>str</td><td>f64</td><td>f64</td><td>f64</td><td>f64</td><td>f64</td><td>f64</td><td>f64</td><td>f64</td><td>f64</td></tr></thead><tbody><tr><td>&quot;Illustrated Book&quot;</td><td>NaN</td><td>4.85699</td><td>14.471429</td><td>22.248024</td><td>58.858049</td><td>NaN</td><td>20.503477</td><td>NaN</td><td>NaN</td></tr><tr><td>&quot;Architecture&quot;</td><td>NaN</td><td>39.439213</td><td>47.879818</td><td>46.990801</td><td>145.520935</td><td>11.04081</td><td>59.985583</td><td>NaN</td><td>2160.461538</td></tr><tr><td>&quot;Installation&quot;</td><td>NaN</td><td>70.281632</td><td>136.220202</td><td>111.509097</td><td>582.520444</td><td>317.517917</td><td>116.929314</td><td>NaN</td><td>4917.898089</td></tr><tr><td>&quot;Software&quot;</td><td>NaN</td><td>NaN</td><td>NaN</td><td>NaN</td><td>NaN</td><td>NaN</td><td>NaN</td><td>NaN</td><td>NaN</td></tr><tr><td>&quot;Graphic Design&quot;</td><td>NaN</td><td>0.0</td><td>NaN</td><td>326.597574</td><td>NaN</td><td>NaN</td><td>54.28382</td><td>NaN</td><td>NaN</td></tr><tr><td>&hellip;</td><td>&hellip;</td><td>&hellip;</td><td>&hellip;</td><td>&hellip;</td><td>&hellip;</td><td>&hellip;</td><td>&hellip;</td><td>&hellip;</td><td>&hellip;</td></tr><tr><td>&quot;Collage&quot;</td><td>NaN</td><td>2.1875</td><td>NaN</td><td>70.355261</td><td>NaN</td><td>NaN</td><td>103.505515</td><td>NaN</td><td>NaN</td></tr><tr><td>&quot;Photography Research/Reference&quot;</td><td>NaN</td><td>NaN</td><td>NaN</td><td>45.55</td><td>NaN</td><td>NaN</td><td>34.8</td><td>NaN</td><td>6120.0</td></tr><tr><td>&quot;Video&quot;</td><td>NaN</td><td>0.266216</td><td>NaN</td><td>2.712987</td><td>NaN</td><td>NaN</td><td>2.716711</td><td>NaN</td><td>3029.279015</td></tr><tr><td>&quot;Design&quot;</td><td>77.860067</td><td>25.939486</td><td>18.215681</td><td>53.600846</td><td>86.081085</td><td>523.133433</td><td>50.063999</td><td>NaN</td><td>6593.166667</td></tr><tr><td>&quot;Sculpture&quot;</td><td>NaN</td><td>57.139591</td><td>106.085079</td><td>105.494561</td><td>465.3702</td><td>1387.632147</td><td>103.907527</td><td>NaN</td><td>1860.0</td></tr></tbody></table></div>"
      ],
      "text/plain": [
       "shape: (32, 10)\n",
       "┌───────────┬───────────┬───────────┬───────────┬───┬───────────┬───────────┬───────────┬──────────┐\n",
       "│ Classific ┆ Mean Circ ┆ Mean      ┆ Mean      ┆ … ┆ Mean      ┆ Mean      ┆ Mean Seat ┆ Mean     │\n",
       "│ ation     ┆ umference ┆ Depth     ┆ Diameter  ┆   ┆ Weight    ┆ Width     ┆ Height    ┆ Duration │\n",
       "│ ---       ┆ (cm)      ┆ (cm)      ┆ (cm)      ┆   ┆ (kg)      ┆ (cm)      ┆ (cm)      ┆ (sec.)   │\n",
       "│ str       ┆ ---       ┆ ---       ┆ ---       ┆   ┆ ---       ┆ ---       ┆ ---       ┆ ---      │\n",
       "│           ┆ f64       ┆ f64       ┆ f64       ┆   ┆ f64       ┆ f64       ┆ f64       ┆ f64      │\n",
       "╞═══════════╪═══════════╪═══════════╪═══════════╪═══╪═══════════╪═══════════╪═══════════╪══════════╡\n",
       "│ Illustrat ┆ NaN       ┆ 4.85699   ┆ 14.471429 ┆ … ┆ NaN       ┆ 20.503477 ┆ NaN       ┆ NaN      │\n",
       "│ ed Book   ┆           ┆           ┆           ┆   ┆           ┆           ┆           ┆          │\n",
       "│ Architect ┆ NaN       ┆ 39.439213 ┆ 47.879818 ┆ … ┆ 11.04081  ┆ 59.985583 ┆ NaN       ┆ 2160.461 │\n",
       "│ ure       ┆           ┆           ┆           ┆   ┆           ┆           ┆           ┆ 538      │\n",
       "│ Installat ┆ NaN       ┆ 70.281632 ┆ 136.22020 ┆ … ┆ 317.51791 ┆ 116.92931 ┆ NaN       ┆ 4917.898 │\n",
       "│ ion       ┆           ┆           ┆ 2         ┆   ┆ 7         ┆ 4         ┆           ┆ 089      │\n",
       "│ Software  ┆ NaN       ┆ NaN       ┆ NaN       ┆ … ┆ NaN       ┆ NaN       ┆ NaN       ┆ NaN      │\n",
       "│ Graphic   ┆ NaN       ┆ 0.0       ┆ NaN       ┆ … ┆ NaN       ┆ 54.28382  ┆ NaN       ┆ NaN      │\n",
       "│ Design    ┆           ┆           ┆           ┆   ┆           ┆           ┆           ┆          │\n",
       "│ …         ┆ …         ┆ …         ┆ …         ┆ … ┆ …         ┆ …         ┆ …         ┆ …        │\n",
       "│ Collage   ┆ NaN       ┆ 2.1875    ┆ NaN       ┆ … ┆ NaN       ┆ 103.50551 ┆ NaN       ┆ NaN      │\n",
       "│           ┆           ┆           ┆           ┆   ┆           ┆ 5         ┆           ┆          │\n",
       "│ Photograp ┆ NaN       ┆ NaN       ┆ NaN       ┆ … ┆ NaN       ┆ 34.8      ┆ NaN       ┆ 6120.0   │\n",
       "│ hy Resear ┆           ┆           ┆           ┆   ┆           ┆           ┆           ┆          │\n",
       "│ ch/Refere ┆           ┆           ┆           ┆   ┆           ┆           ┆           ┆          │\n",
       "│ nce       ┆           ┆           ┆           ┆   ┆           ┆           ┆           ┆          │\n",
       "│ Video     ┆ NaN       ┆ 0.266216  ┆ NaN       ┆ … ┆ NaN       ┆ 2.716711  ┆ NaN       ┆ 3029.279 │\n",
       "│           ┆           ┆           ┆           ┆   ┆           ┆           ┆           ┆ 015      │\n",
       "│ Design    ┆ 77.860067 ┆ 25.939486 ┆ 18.215681 ┆ … ┆ 523.13343 ┆ 50.063999 ┆ NaN       ┆ 6593.166 │\n",
       "│           ┆           ┆           ┆           ┆   ┆ 3         ┆           ┆           ┆ 667      │\n",
       "│ Sculpture ┆ NaN       ┆ 57.139591 ┆ 106.08507 ┆ … ┆ 1387.6321 ┆ 103.90752 ┆ NaN       ┆ 1860.0   │\n",
       "│           ┆           ┆           ┆ 9         ┆   ┆ 47        ┆ 7         ┆           ┆          │\n",
       "└───────────┴───────────┴───────────┴───────────┴───┴───────────┴───────────┴───────────┴──────────┘"
      ]
     },
     "execution_count": 7,
     "metadata": {},
     "output_type": "execute_result"
    }
   ],
   "source": [
    "# Input a list of expressions\n",
    "(artwork\n",
    " .group_by('Classification')\n",
    " .agg([pl.col('Circumference (cm)').mean().alias('Mean Circumference (cm)'),\n",
    "       pl.col('Depth (cm)').mean().alias('Mean Depth (cm)'),\n",
    "       pl.col('Diameter (cm)').mean().alias('Mean Diameter (cm)'),\n",
    "       pl.col('Height (cm)').mean().alias('Mean Height (cm)'),\n",
    "       pl.col('Length (cm)').mean().alias('Mean Length (cm)'),\n",
    "       pl.col('Weight (kg)').mean().alias('Mean Weight (kg)'),\n",
    "       pl.col('Width (cm)').mean().alias('Mean Width (cm)'),\n",
    "       pl.col('Seat Height (cm)').mean().alias('Mean Seat Height (cm)'),\n",
    "       pl.col('Duration (sec.)').mean().alias('Mean Duration (sec.)'),\n",
    "      ],\n",
    "     )\n",
    ")"
   ]
  },
  {
   "cell_type": "code",
   "execution_count": 8,
   "metadata": {},
   "outputs": [
    {
     "name": "stdout",
     "output_type": "stream",
     "text": [
      "Help on method agg in module polars.dataframe.group_by:\n",
      "\n",
      "agg(*aggs: 'IntoExpr | Iterable[IntoExpr]', **named_aggs: 'IntoExpr') -> 'DataFrame' method of polars.dataframe.group_by.GroupBy instance\n",
      "    Compute aggregations for each group of a group by operation.\n",
      "\n",
      "    Parameters\n",
      "    ----------\n",
      "    *aggs\n",
      "        Aggregations to compute for each group of the group by operation,\n",
      "        specified as positional arguments.\n",
      "        Accepts expression input. Strings are parsed as column names.\n",
      "    **named_aggs\n",
      "        Additional aggregations, specified as keyword arguments.\n",
      "        The resulting columns will be renamed to the keyword used.\n",
      "\n",
      "    Examples\n",
      "    --------\n",
      "    Compute the aggregation of the columns for each group.\n",
      "\n",
      "    >>> df = pl.DataFrame(\n",
      "    ...     {\n",
      "    ...         \"a\": [\"a\", \"b\", \"a\", \"b\", \"c\"],\n",
      "    ...         \"b\": [1, 2, 1, 3, 3],\n",
      "    ...         \"c\": [5, 4, 3, 2, 1],\n",
      "    ...     }\n",
      "    ... )\n",
      "    >>> df.group_by(\"a\").agg(pl.col(\"b\"), pl.col(\"c\"))  # doctest: +IGNORE_RESULT\n",
      "    shape: (3, 3)\n",
      "    ┌─────┬───────────┬───────────┐\n",
      "    │ a   ┆ b         ┆ c         │\n",
      "    │ --- ┆ ---       ┆ ---       │\n",
      "    │ str ┆ list[i64] ┆ list[i64] │\n",
      "    ╞═════╪═══════════╪═══════════╡\n",
      "    │ a   ┆ [1, 1]    ┆ [5, 3]    │\n",
      "    ├╌╌╌╌╌┼╌╌╌╌╌╌╌╌╌╌╌┼╌╌╌╌╌╌╌╌╌╌╌┤\n",
      "    │ b   ┆ [2, 3]    ┆ [4, 2]    │\n",
      "    ├╌╌╌╌╌┼╌╌╌╌╌╌╌╌╌╌╌┼╌╌╌╌╌╌╌╌╌╌╌┤\n",
      "    │ c   ┆ [3]       ┆ [1]       │\n",
      "    └─────┴───────────┴───────────┘\n",
      "\n",
      "    Compute the sum of a column for each group.\n",
      "\n",
      "    >>> df.group_by(\"a\").agg(pl.col(\"b\").sum())  # doctest: +IGNORE_RESULT\n",
      "    shape: (3, 2)\n",
      "    ┌─────┬─────┐\n",
      "    │ a   ┆ b   │\n",
      "    │ --- ┆ --- │\n",
      "    │ str ┆ i64 │\n",
      "    ╞═════╪═════╡\n",
      "    │ a   ┆ 2   │\n",
      "    │ b   ┆ 5   │\n",
      "    │ c   ┆ 3   │\n",
      "    └─────┴─────┘\n",
      "\n",
      "    Compute multiple aggregates at once by passing a list of expressions.\n",
      "\n",
      "    >>> df.group_by(\"a\").agg([pl.sum(\"b\"), pl.mean(\"c\")])  # doctest: +IGNORE_RESULT\n",
      "    shape: (3, 3)\n",
      "    ┌─────┬─────┬─────┐\n",
      "    │ a   ┆ b   ┆ c   │\n",
      "    │ --- ┆ --- ┆ --- │\n",
      "    │ str ┆ i64 ┆ f64 │\n",
      "    ╞═════╪═════╪═════╡\n",
      "    │ c   ┆ 3   ┆ 1.0 │\n",
      "    │ a   ┆ 2   ┆ 4.0 │\n",
      "    │ b   ┆ 5   ┆ 3.0 │\n",
      "    └─────┴─────┴─────┘\n",
      "\n",
      "    Or use positional arguments to compute multiple aggregations in the same way.\n",
      "\n",
      "    >>> df.group_by(\"a\").agg(\n",
      "    ...     pl.sum(\"b\").name.suffix(\"_sum\"),\n",
      "    ...     (pl.col(\"c\") ** 2).mean().name.suffix(\"_mean_squared\"),\n",
      "    ... )  # doctest: +IGNORE_RESULT\n",
      "    shape: (3, 3)\n",
      "    ┌─────┬───────┬────────────────┐\n",
      "    │ a   ┆ b_sum ┆ c_mean_squared │\n",
      "    │ --- ┆ ---   ┆ ---            │\n",
      "    │ str ┆ i64   ┆ f64            │\n",
      "    ╞═════╪═══════╪════════════════╡\n",
      "    │ a   ┆ 2     ┆ 17.0           │\n",
      "    │ c   ┆ 3     ┆ 1.0            │\n",
      "    │ b   ┆ 5     ┆ 10.0           │\n",
      "    └─────┴───────┴────────────────┘\n",
      "\n",
      "    Use keyword arguments to easily name your expression inputs.\n",
      "\n",
      "    >>> df.group_by(\"a\").agg(\n",
      "    ...     b_sum=pl.sum(\"b\"),\n",
      "    ...     c_mean_squared=(pl.col(\"c\") ** 2).mean(),\n",
      "    ... )  # doctest: +IGNORE_RESULT\n",
      "    shape: (3, 3)\n",
      "    ┌─────┬───────┬────────────────┐\n",
      "    │ a   ┆ b_sum ┆ c_mean_squared │\n",
      "    │ --- ┆ ---   ┆ ---            │\n",
      "    │ str ┆ i64   ┆ f64            │\n",
      "    ╞═════╪═══════╪════════════════╡\n",
      "    │ a   ┆ 2     ┆ 17.0           │\n",
      "    │ c   ┆ 3     ┆ 1.0            │\n",
      "    │ b   ┆ 5     ┆ 10.0           │\n",
      "    └─────┴───────┴────────────────┘\n",
      "\n"
     ]
    }
   ],
   "source": [
    "help(artwork.group_by().agg)"
   ]
  },
  {
   "cell_type": "code",
   "execution_count": 9,
   "metadata": {},
   "outputs": [],
   "source": [
    "compute_mean = lambda col: pl.col(col).mean().alias(f'Mean {col}')"
   ]
  },
  {
   "cell_type": "code",
   "execution_count": 10,
   "metadata": {},
   "outputs": [
    {
     "data": {
      "text/html": [
       "<div><style>\n",
       ".dataframe > thead > tr,\n",
       ".dataframe > tbody > tr {\n",
       "  text-align: right;\n",
       "  white-space: pre-wrap;\n",
       "}\n",
       "</style>\n",
       "<small>shape: (32, 10)</small><table border=\"1\" class=\"dataframe\"><thead><tr><th>Classification</th><th>Mean Circumference (cm)</th><th>Mean Depth (cm)</th><th>Mean Diameter (cm)</th><th>Mean Height (cm)</th><th>Mean Length (cm)</th><th>Mean Weight (kg)</th><th>Mean Width (cm)</th><th>Mean Seat Height (cm)</th><th>Mean Duration (sec.)</th></tr><tr><td>str</td><td>f64</td><td>f64</td><td>f64</td><td>f64</td><td>f64</td><td>f64</td><td>f64</td><td>f64</td><td>f64</td></tr></thead><tbody><tr><td>&quot;Textile&quot;</td><td>NaN</td><td>8.724003</td><td>NaN</td><td>108.386216</td><td>103.0</td><td>NaN</td><td>118.780417</td><td>NaN</td><td>NaN</td></tr><tr><td>&quot;Mies van der Rohe Archive&quot;</td><td>NaN</td><td>22.5</td><td>NaN</td><td>41.44568</td><td>NaN</td><td>90.7194</td><td>56.195844</td><td>NaN</td><td>NaN</td></tr><tr><td>&quot;Software&quot;</td><td>NaN</td><td>NaN</td><td>NaN</td><td>NaN</td><td>NaN</td><td>NaN</td><td>NaN</td><td>NaN</td><td>NaN</td></tr><tr><td>&quot;Multiple&quot;</td><td>29.516667</td><td>7.796307</td><td>9.303058</td><td>19.382265</td><td>26.65</td><td>2.783105</td><td>20.988888</td><td>NaN</td><td>60.0</td></tr><tr><td>&quot;Performance&quot;</td><td>NaN</td><td>29.111299</td><td>NaN</td><td>130.39205</td><td>NaN</td><td>NaN</td><td>131.951426</td><td>NaN</td><td>600.0</td></tr><tr><td>&hellip;</td><td>&hellip;</td><td>&hellip;</td><td>&hellip;</td><td>&hellip;</td><td>&hellip;</td><td>&hellip;</td><td>&hellip;</td><td>&hellip;</td><td>&hellip;</td></tr><tr><td>&quot;Ephemera&quot;</td><td>NaN</td><td>1.322905</td><td>4.75</td><td>27.317681</td><td>25.08255</td><td>NaN</td><td>24.492504</td><td>NaN</td><td>NaN</td></tr><tr><td>&quot;Installation&quot;</td><td>NaN</td><td>70.281632</td><td>136.220202</td><td>111.509097</td><td>582.520444</td><td>317.517917</td><td>116.929314</td><td>NaN</td><td>4917.898089</td></tr><tr><td>&quot;Architecture&quot;</td><td>NaN</td><td>39.439213</td><td>47.879818</td><td>46.990801</td><td>145.520935</td><td>11.04081</td><td>59.985583</td><td>NaN</td><td>2160.461538</td></tr><tr><td>&quot;Digital&quot;</td><td>NaN</td><td>NaN</td><td>NaN</td><td>NaN</td><td>NaN</td><td>NaN</td><td>NaN</td><td>NaN</td><td>4590.0</td></tr><tr><td>&quot;Work on Paper&quot;</td><td>NaN</td><td>1.209352</td><td>NaN</td><td>83.666016</td><td>NaN</td><td>NaN</td><td>78.392955</td><td>NaN</td><td>NaN</td></tr></tbody></table></div>"
      ],
      "text/plain": [
       "shape: (32, 10)\n",
       "┌───────────┬───────────┬───────────┬───────────┬───┬───────────┬───────────┬───────────┬──────────┐\n",
       "│ Classific ┆ Mean Circ ┆ Mean      ┆ Mean      ┆ … ┆ Mean      ┆ Mean      ┆ Mean Seat ┆ Mean     │\n",
       "│ ation     ┆ umference ┆ Depth     ┆ Diameter  ┆   ┆ Weight    ┆ Width     ┆ Height    ┆ Duration │\n",
       "│ ---       ┆ (cm)      ┆ (cm)      ┆ (cm)      ┆   ┆ (kg)      ┆ (cm)      ┆ (cm)      ┆ (sec.)   │\n",
       "│ str       ┆ ---       ┆ ---       ┆ ---       ┆   ┆ ---       ┆ ---       ┆ ---       ┆ ---      │\n",
       "│           ┆ f64       ┆ f64       ┆ f64       ┆   ┆ f64       ┆ f64       ┆ f64       ┆ f64      │\n",
       "╞═══════════╪═══════════╪═══════════╪═══════════╪═══╪═══════════╪═══════════╪═══════════╪══════════╡\n",
       "│ Textile   ┆ NaN       ┆ 8.724003  ┆ NaN       ┆ … ┆ NaN       ┆ 118.78041 ┆ NaN       ┆ NaN      │\n",
       "│           ┆           ┆           ┆           ┆   ┆           ┆ 7         ┆           ┆          │\n",
       "│ Mies van  ┆ NaN       ┆ 22.5      ┆ NaN       ┆ … ┆ 90.7194   ┆ 56.195844 ┆ NaN       ┆ NaN      │\n",
       "│ der Rohe  ┆           ┆           ┆           ┆   ┆           ┆           ┆           ┆          │\n",
       "│ Archive   ┆           ┆           ┆           ┆   ┆           ┆           ┆           ┆          │\n",
       "│ Software  ┆ NaN       ┆ NaN       ┆ NaN       ┆ … ┆ NaN       ┆ NaN       ┆ NaN       ┆ NaN      │\n",
       "│ Multiple  ┆ 29.516667 ┆ 7.796307  ┆ 9.303058  ┆ … ┆ 2.783105  ┆ 20.988888 ┆ NaN       ┆ 60.0     │\n",
       "│ Performan ┆ NaN       ┆ 29.111299 ┆ NaN       ┆ … ┆ NaN       ┆ 131.95142 ┆ NaN       ┆ 600.0    │\n",
       "│ ce        ┆           ┆           ┆           ┆   ┆           ┆ 6         ┆           ┆          │\n",
       "│ …         ┆ …         ┆ …         ┆ …         ┆ … ┆ …         ┆ …         ┆ …         ┆ …        │\n",
       "│ Ephemera  ┆ NaN       ┆ 1.322905  ┆ 4.75      ┆ … ┆ NaN       ┆ 24.492504 ┆ NaN       ┆ NaN      │\n",
       "│ Installat ┆ NaN       ┆ 70.281632 ┆ 136.22020 ┆ … ┆ 317.51791 ┆ 116.92931 ┆ NaN       ┆ 4917.898 │\n",
       "│ ion       ┆           ┆           ┆ 2         ┆   ┆ 7         ┆ 4         ┆           ┆ 089      │\n",
       "│ Architect ┆ NaN       ┆ 39.439213 ┆ 47.879818 ┆ … ┆ 11.04081  ┆ 59.985583 ┆ NaN       ┆ 2160.461 │\n",
       "│ ure       ┆           ┆           ┆           ┆   ┆           ┆           ┆           ┆ 538      │\n",
       "│ Digital   ┆ NaN       ┆ NaN       ┆ NaN       ┆ … ┆ NaN       ┆ NaN       ┆ NaN       ┆ 4590.0   │\n",
       "│ Work on   ┆ NaN       ┆ 1.209352  ┆ NaN       ┆ … ┆ NaN       ┆ 78.392955 ┆ NaN       ┆ NaN      │\n",
       "│ Paper     ┆           ┆           ┆           ┆   ┆           ┆           ┆           ┆          │\n",
       "└───────────┴───────────┴───────────┴───────────┴───┴───────────┴───────────┴───────────┴──────────┘"
      ]
     },
     "execution_count": 10,
     "metadata": {},
     "output_type": "execute_result"
    }
   ],
   "source": [
    "# Input a list of expressions\n",
    "(artwork\n",
    " .group_by('Classification')\n",
    " .agg([compute_mean(c) for c in artwork.columns if c.endswith(')')]\n",
    "     )\n",
    ")"
   ]
  },
  {
   "cell_type": "code",
   "execution_count": 11,
   "metadata": {},
   "outputs": [
    {
     "data": {
      "text/html": [
       "<div><style>\n",
       ".dataframe > thead > tr,\n",
       ".dataframe > tbody > tr {\n",
       "  text-align: right;\n",
       "  white-space: pre-wrap;\n",
       "}\n",
       "</style>\n",
       "<small>shape: (32, 10)</small><table border=\"1\" class=\"dataframe\"><thead><tr><th>Classification</th><th>Mean Circumference (cm)</th><th>Mean Depth (cm)</th><th>Mean Diameter (cm)</th><th>Mean Height (cm)</th><th>Mean Length (cm)</th><th>Mean Weight (kg)</th><th>Mean Width (cm)</th><th>Mean Seat Height (cm)</th><th>Mean Duration (sec.)</th></tr><tr><td>str</td><td>f64</td><td>f64</td><td>f64</td><td>f64</td><td>f64</td><td>f64</td><td>f64</td><td>f64</td><td>f64</td></tr></thead><tbody><tr><td>&quot;Frank Lloyd Wright Archive&quot;</td><td>NaN</td><td>3.738871</td><td>26.670053</td><td>55.780718</td><td>NaN</td><td>NaN</td><td>70.306716</td><td>NaN</td><td>NaN</td></tr><tr><td>&quot;Painting&quot;</td><td>NaN</td><td>8.087142</td><td>138.357934</td><td>122.422894</td><td>NaN</td><td>96.285524</td><td>130.379904</td><td>NaN</td><td>NaN</td></tr><tr><td>&quot;Performance&quot;</td><td>NaN</td><td>29.111299</td><td>NaN</td><td>130.39205</td><td>NaN</td><td>NaN</td><td>131.951426</td><td>NaN</td><td>600.0</td></tr><tr><td>&quot;Video&quot;</td><td>NaN</td><td>0.266216</td><td>NaN</td><td>2.712987</td><td>NaN</td><td>NaN</td><td>2.716711</td><td>NaN</td><td>3029.279015</td></tr><tr><td>&quot;Poster&quot;</td><td>NaN</td><td>0.0</td><td>NaN</td><td>98.16542</td><td>NaN</td><td>NaN</td><td>70.427396</td><td>NaN</td><td>NaN</td></tr><tr><td>&hellip;</td><td>&hellip;</td><td>&hellip;</td><td>&hellip;</td><td>&hellip;</td><td>&hellip;</td><td>&hellip;</td><td>&hellip;</td><td>&hellip;</td><td>&hellip;</td></tr><tr><td>&quot;Design&quot;</td><td>77.860067</td><td>25.939486</td><td>18.215681</td><td>53.600846</td><td>86.081085</td><td>523.133433</td><td>50.063999</td><td>NaN</td><td>6593.166667</td></tr><tr><td>&quot;Photography Research/Reference&quot;</td><td>NaN</td><td>NaN</td><td>NaN</td><td>45.55</td><td>NaN</td><td>NaN</td><td>34.8</td><td>NaN</td><td>6120.0</td></tr><tr><td>&quot;Film (object)&quot;</td><td>NaN</td><td>NaN</td><td>NaN</td><td>8.7</td><td>NaN</td><td>NaN</td><td>9.4</td><td>NaN</td><td>NaN</td></tr><tr><td>&quot;Work on Paper&quot;</td><td>NaN</td><td>1.209352</td><td>NaN</td><td>83.666016</td><td>NaN</td><td>NaN</td><td>78.392955</td><td>NaN</td><td>NaN</td></tr><tr><td>&quot;Photograph&quot;</td><td>NaN</td><td>3.372236</td><td>8.041579</td><td>28.519292</td><td>NaN</td><td>226.798512</td><td>31.585365</td><td>NaN</td><td>280.0</td></tr></tbody></table></div>"
      ],
      "text/plain": [
       "shape: (32, 10)\n",
       "┌───────────┬───────────┬───────────┬───────────┬───┬───────────┬───────────┬───────────┬──────────┐\n",
       "│ Classific ┆ Mean Circ ┆ Mean      ┆ Mean      ┆ … ┆ Mean      ┆ Mean      ┆ Mean Seat ┆ Mean     │\n",
       "│ ation     ┆ umference ┆ Depth     ┆ Diameter  ┆   ┆ Weight    ┆ Width     ┆ Height    ┆ Duration │\n",
       "│ ---       ┆ (cm)      ┆ (cm)      ┆ (cm)      ┆   ┆ (kg)      ┆ (cm)      ┆ (cm)      ┆ (sec.)   │\n",
       "│ str       ┆ ---       ┆ ---       ┆ ---       ┆   ┆ ---       ┆ ---       ┆ ---       ┆ ---      │\n",
       "│           ┆ f64       ┆ f64       ┆ f64       ┆   ┆ f64       ┆ f64       ┆ f64       ┆ f64      │\n",
       "╞═══════════╪═══════════╪═══════════╪═══════════╪═══╪═══════════╪═══════════╪═══════════╪══════════╡\n",
       "│ Frank     ┆ NaN       ┆ 3.738871  ┆ 26.670053 ┆ … ┆ NaN       ┆ 70.306716 ┆ NaN       ┆ NaN      │\n",
       "│ Lloyd     ┆           ┆           ┆           ┆   ┆           ┆           ┆           ┆          │\n",
       "│ Wright    ┆           ┆           ┆           ┆   ┆           ┆           ┆           ┆          │\n",
       "│ Archive   ┆           ┆           ┆           ┆   ┆           ┆           ┆           ┆          │\n",
       "│ Painting  ┆ NaN       ┆ 8.087142  ┆ 138.35793 ┆ … ┆ 96.285524 ┆ 130.37990 ┆ NaN       ┆ NaN      │\n",
       "│           ┆           ┆           ┆ 4         ┆   ┆           ┆ 4         ┆           ┆          │\n",
       "│ Performan ┆ NaN       ┆ 29.111299 ┆ NaN       ┆ … ┆ NaN       ┆ 131.95142 ┆ NaN       ┆ 600.0    │\n",
       "│ ce        ┆           ┆           ┆           ┆   ┆           ┆ 6         ┆           ┆          │\n",
       "│ Video     ┆ NaN       ┆ 0.266216  ┆ NaN       ┆ … ┆ NaN       ┆ 2.716711  ┆ NaN       ┆ 3029.279 │\n",
       "│           ┆           ┆           ┆           ┆   ┆           ┆           ┆           ┆ 015      │\n",
       "│ Poster    ┆ NaN       ┆ 0.0       ┆ NaN       ┆ … ┆ NaN       ┆ 70.427396 ┆ NaN       ┆ NaN      │\n",
       "│ …         ┆ …         ┆ …         ┆ …         ┆ … ┆ …         ┆ …         ┆ …         ┆ …        │\n",
       "│ Design    ┆ 77.860067 ┆ 25.939486 ┆ 18.215681 ┆ … ┆ 523.13343 ┆ 50.063999 ┆ NaN       ┆ 6593.166 │\n",
       "│           ┆           ┆           ┆           ┆   ┆ 3         ┆           ┆           ┆ 667      │\n",
       "│ Photograp ┆ NaN       ┆ NaN       ┆ NaN       ┆ … ┆ NaN       ┆ 34.8      ┆ NaN       ┆ 6120.0   │\n",
       "│ hy Resear ┆           ┆           ┆           ┆   ┆           ┆           ┆           ┆          │\n",
       "│ ch/Refere ┆           ┆           ┆           ┆   ┆           ┆           ┆           ┆          │\n",
       "│ nce       ┆           ┆           ┆           ┆   ┆           ┆           ┆           ┆          │\n",
       "│ Film      ┆ NaN       ┆ NaN       ┆ NaN       ┆ … ┆ NaN       ┆ 9.4       ┆ NaN       ┆ NaN      │\n",
       "│ (object)  ┆           ┆           ┆           ┆   ┆           ┆           ┆           ┆          │\n",
       "│ Work on   ┆ NaN       ┆ 1.209352  ┆ NaN       ┆ … ┆ NaN       ┆ 78.392955 ┆ NaN       ┆ NaN      │\n",
       "│ Paper     ┆           ┆           ┆           ┆   ┆           ┆           ┆           ┆          │\n",
       "│ Photograp ┆ NaN       ┆ 3.372236  ┆ 8.041579  ┆ … ┆ 226.79851 ┆ 31.585365 ┆ NaN       ┆ 280.0    │\n",
       "│ h         ┆           ┆           ┆           ┆   ┆ 2         ┆           ┆           ┆          │\n",
       "└───────────┴───────────┴───────────┴───────────┴───┴───────────┴───────────┴───────────┴──────────┘"
      ]
     },
     "execution_count": 11,
     "metadata": {},
     "output_type": "execute_result"
    }
   ],
   "source": [
    "# Unpacking positional arguments\n",
    "(artwork\n",
    " .group_by('Classification')\n",
    " .agg(*[compute_mean(c) for c in artwork.columns if c.endswith(')')]\n",
    "     )\n",
    ")"
   ]
  },
  {
   "cell_type": "code",
   "execution_count": 12,
   "metadata": {},
   "outputs": [],
   "source": [
    "dimension_col_means = lambda df: [compute_mean(c) for c in df.columns if c.endswith(')')]"
   ]
  },
  {
   "cell_type": "code",
   "execution_count": 13,
   "metadata": {},
   "outputs": [
    {
     "data": {
      "text/html": [
       "<div><style>\n",
       ".dataframe > thead > tr,\n",
       ".dataframe > tbody > tr {\n",
       "  text-align: right;\n",
       "  white-space: pre-wrap;\n",
       "}\n",
       "</style>\n",
       "<small>shape: (32, 10)</small><table border=\"1\" class=\"dataframe\"><thead><tr><th>Classification</th><th>Mean Circumference (cm)</th><th>Mean Depth (cm)</th><th>Mean Diameter (cm)</th><th>Mean Height (cm)</th><th>Mean Length (cm)</th><th>Mean Weight (kg)</th><th>Mean Width (cm)</th><th>Mean Seat Height (cm)</th><th>Mean Duration (sec.)</th></tr><tr><td>str</td><td>f64</td><td>f64</td><td>f64</td><td>f64</td><td>f64</td><td>f64</td><td>f64</td><td>f64</td><td>f64</td></tr></thead><tbody><tr><td>&quot;Performance&quot;</td><td>NaN</td><td>29.111299</td><td>NaN</td><td>130.39205</td><td>NaN</td><td>NaN</td><td>131.951426</td><td>NaN</td><td>600.0</td></tr><tr><td>&quot;Installation&quot;</td><td>NaN</td><td>70.281632</td><td>136.220202</td><td>111.509097</td><td>582.520444</td><td>317.517917</td><td>116.929314</td><td>NaN</td><td>4917.898089</td></tr><tr><td>&quot;Software&quot;</td><td>NaN</td><td>NaN</td><td>NaN</td><td>NaN</td><td>NaN</td><td>NaN</td><td>NaN</td><td>NaN</td><td>NaN</td></tr><tr><td>&quot;Photograph&quot;</td><td>NaN</td><td>3.372236</td><td>8.041579</td><td>28.519292</td><td>NaN</td><td>226.798512</td><td>31.585365</td><td>NaN</td><td>280.0</td></tr><tr><td>&quot;Poster&quot;</td><td>NaN</td><td>0.0</td><td>NaN</td><td>98.16542</td><td>NaN</td><td>NaN</td><td>70.427396</td><td>NaN</td><td>NaN</td></tr><tr><td>&hellip;</td><td>&hellip;</td><td>&hellip;</td><td>&hellip;</td><td>&hellip;</td><td>&hellip;</td><td>&hellip;</td><td>&hellip;</td><td>&hellip;</td><td>&hellip;</td></tr><tr><td>&quot;Architecture&quot;</td><td>NaN</td><td>39.439213</td><td>47.879818</td><td>46.990801</td><td>145.520935</td><td>11.04081</td><td>59.985583</td><td>NaN</td><td>2160.461538</td></tr><tr><td>&quot;Digital&quot;</td><td>NaN</td><td>NaN</td><td>NaN</td><td>NaN</td><td>NaN</td><td>NaN</td><td>NaN</td><td>NaN</td><td>4590.0</td></tr><tr><td>&quot;Media&quot;</td><td>NaN</td><td>1.696429</td><td>NaN</td><td>12.47931</td><td>NaN</td><td>NaN</td><td>13.668966</td><td>NaN</td><td>NaN</td></tr><tr><td>&quot;Print&quot;</td><td>38.0</td><td>1.716388</td><td>49.066169</td><td>40.158467</td><td>14.5</td><td>1.5</td><td>37.848143</td><td>NaN</td><td>0.0</td></tr><tr><td>&quot;Sculpture&quot;</td><td>NaN</td><td>57.139591</td><td>106.085079</td><td>105.494561</td><td>465.3702</td><td>1387.632147</td><td>103.907527</td><td>NaN</td><td>1860.0</td></tr></tbody></table></div>"
      ],
      "text/plain": [
       "shape: (32, 10)\n",
       "┌───────────┬───────────┬───────────┬───────────┬───┬───────────┬───────────┬───────────┬──────────┐\n",
       "│ Classific ┆ Mean Circ ┆ Mean      ┆ Mean      ┆ … ┆ Mean      ┆ Mean      ┆ Mean Seat ┆ Mean     │\n",
       "│ ation     ┆ umference ┆ Depth     ┆ Diameter  ┆   ┆ Weight    ┆ Width     ┆ Height    ┆ Duration │\n",
       "│ ---       ┆ (cm)      ┆ (cm)      ┆ (cm)      ┆   ┆ (kg)      ┆ (cm)      ┆ (cm)      ┆ (sec.)   │\n",
       "│ str       ┆ ---       ┆ ---       ┆ ---       ┆   ┆ ---       ┆ ---       ┆ ---       ┆ ---      │\n",
       "│           ┆ f64       ┆ f64       ┆ f64       ┆   ┆ f64       ┆ f64       ┆ f64       ┆ f64      │\n",
       "╞═══════════╪═══════════╪═══════════╪═══════════╪═══╪═══════════╪═══════════╪═══════════╪══════════╡\n",
       "│ Performan ┆ NaN       ┆ 29.111299 ┆ NaN       ┆ … ┆ NaN       ┆ 131.95142 ┆ NaN       ┆ 600.0    │\n",
       "│ ce        ┆           ┆           ┆           ┆   ┆           ┆ 6         ┆           ┆          │\n",
       "│ Installat ┆ NaN       ┆ 70.281632 ┆ 136.22020 ┆ … ┆ 317.51791 ┆ 116.92931 ┆ NaN       ┆ 4917.898 │\n",
       "│ ion       ┆           ┆           ┆ 2         ┆   ┆ 7         ┆ 4         ┆           ┆ 089      │\n",
       "│ Software  ┆ NaN       ┆ NaN       ┆ NaN       ┆ … ┆ NaN       ┆ NaN       ┆ NaN       ┆ NaN      │\n",
       "│ Photograp ┆ NaN       ┆ 3.372236  ┆ 8.041579  ┆ … ┆ 226.79851 ┆ 31.585365 ┆ NaN       ┆ 280.0    │\n",
       "│ h         ┆           ┆           ┆           ┆   ┆ 2         ┆           ┆           ┆          │\n",
       "│ Poster    ┆ NaN       ┆ 0.0       ┆ NaN       ┆ … ┆ NaN       ┆ 70.427396 ┆ NaN       ┆ NaN      │\n",
       "│ …         ┆ …         ┆ …         ┆ …         ┆ … ┆ …         ┆ …         ┆ …         ┆ …        │\n",
       "│ Architect ┆ NaN       ┆ 39.439213 ┆ 47.879818 ┆ … ┆ 11.04081  ┆ 59.985583 ┆ NaN       ┆ 2160.461 │\n",
       "│ ure       ┆           ┆           ┆           ┆   ┆           ┆           ┆           ┆ 538      │\n",
       "│ Digital   ┆ NaN       ┆ NaN       ┆ NaN       ┆ … ┆ NaN       ┆ NaN       ┆ NaN       ┆ 4590.0   │\n",
       "│ Media     ┆ NaN       ┆ 1.696429  ┆ NaN       ┆ … ┆ NaN       ┆ 13.668966 ┆ NaN       ┆ NaN      │\n",
       "│ Print     ┆ 38.0      ┆ 1.716388  ┆ 49.066169 ┆ … ┆ 1.5       ┆ 37.848143 ┆ NaN       ┆ 0.0      │\n",
       "│ Sculpture ┆ NaN       ┆ 57.139591 ┆ 106.08507 ┆ … ┆ 1387.6321 ┆ 103.90752 ┆ NaN       ┆ 1860.0   │\n",
       "│           ┆           ┆           ┆ 9         ┆   ┆ 47        ┆ 7         ┆           ┆          │\n",
       "└───────────┴───────────┴───────────┴───────────┴───┴───────────┴───────────┴───────────┴──────────┘"
      ]
     },
     "execution_count": 13,
     "metadata": {},
     "output_type": "execute_result"
    }
   ],
   "source": [
    "# List of input expressions\n",
    "(artwork\n",
    " .group_by('Classification')\n",
    " .agg(dimension_col_means(artwork)\n",
    "     )\n",
    ")"
   ]
  },
  {
   "cell_type": "code",
   "execution_count": 14,
   "metadata": {},
   "outputs": [
    {
     "data": {
      "text/html": [
       "<div><style>\n",
       ".dataframe > thead > tr,\n",
       ".dataframe > tbody > tr {\n",
       "  text-align: right;\n",
       "  white-space: pre-wrap;\n",
       "}\n",
       "</style>\n",
       "<small>shape: (32, 10)</small><table border=\"1\" class=\"dataframe\"><thead><tr><th>Classification</th><th>Mean Circumference (cm)</th><th>Mean Depth (cm)</th><th>Mean Diameter (cm)</th><th>Mean Height (cm)</th><th>Mean Length (cm)</th><th>Mean Weight (kg)</th><th>Mean Width (cm)</th><th>Mean Seat Height (cm)</th><th>Mean Duration (sec.)</th></tr><tr><td>str</td><td>f64</td><td>f64</td><td>f64</td><td>f64</td><td>f64</td><td>f64</td><td>f64</td><td>f64</td><td>f64</td></tr></thead><tbody><tr><td>&quot;Print&quot;</td><td>38.0</td><td>1.716388</td><td>49.066169</td><td>40.158467</td><td>14.5</td><td>1.5</td><td>37.848143</td><td>null</td><td>0.0</td></tr><tr><td>&quot;Audio&quot;</td><td>null</td><td>0.17894</td><td>19.685039</td><td>11.84564</td><td>null</td><td>null</td><td>11.942762</td><td>null</td><td>1327.666667</td></tr><tr><td>&quot;Software&quot;</td><td>null</td><td>null</td><td>null</td><td>null</td><td>null</td><td>null</td><td>null</td><td>null</td><td>null</td></tr><tr><td>&quot;Design&quot;</td><td>77.860067</td><td>25.939486</td><td>18.215681</td><td>53.600846</td><td>86.081085</td><td>523.133433</td><td>50.063999</td><td>null</td><td>6593.166667</td></tr><tr><td>&quot;Sculpture&quot;</td><td>null</td><td>57.139591</td><td>106.085079</td><td>105.494561</td><td>465.3702</td><td>1387.632147</td><td>103.907527</td><td>null</td><td>1860.0</td></tr><tr><td>&hellip;</td><td>&hellip;</td><td>&hellip;</td><td>&hellip;</td><td>&hellip;</td><td>&hellip;</td><td>&hellip;</td><td>&hellip;</td><td>&hellip;</td><td>&hellip;</td></tr><tr><td>&quot;Frank Lloyd Wright Archive&quot;</td><td>null</td><td>3.738871</td><td>26.670053</td><td>55.780718</td><td>null</td><td>null</td><td>70.306716</td><td>null</td><td>null</td></tr><tr><td>&quot;Film (object)&quot;</td><td>null</td><td>null</td><td>null</td><td>8.7</td><td>null</td><td>null</td><td>9.4</td><td>null</td><td>null</td></tr><tr><td>&quot;Ephemera&quot;</td><td>null</td><td>1.322905</td><td>4.75</td><td>27.317681</td><td>25.08255</td><td>null</td><td>24.492504</td><td>null</td><td>null</td></tr><tr><td>&quot;Digital&quot;</td><td>null</td><td>null</td><td>null</td><td>null</td><td>null</td><td>null</td><td>null</td><td>null</td><td>4590.0</td></tr><tr><td>&quot;Mies van der Rohe Archive&quot;</td><td>null</td><td>22.5</td><td>null</td><td>41.44568</td><td>null</td><td>90.7194</td><td>56.195844</td><td>null</td><td>null</td></tr></tbody></table></div>"
      ],
      "text/plain": [
       "shape: (32, 10)\n",
       "┌───────────┬───────────┬───────────┬───────────┬───┬───────────┬───────────┬───────────┬──────────┐\n",
       "│ Classific ┆ Mean Circ ┆ Mean      ┆ Mean      ┆ … ┆ Mean      ┆ Mean      ┆ Mean Seat ┆ Mean     │\n",
       "│ ation     ┆ umference ┆ Depth     ┆ Diameter  ┆   ┆ Weight    ┆ Width     ┆ Height    ┆ Duration │\n",
       "│ ---       ┆ (cm)      ┆ (cm)      ┆ (cm)      ┆   ┆ (kg)      ┆ (cm)      ┆ (cm)      ┆ (sec.)   │\n",
       "│ str       ┆ ---       ┆ ---       ┆ ---       ┆   ┆ ---       ┆ ---       ┆ ---       ┆ ---      │\n",
       "│           ┆ f64       ┆ f64       ┆ f64       ┆   ┆ f64       ┆ f64       ┆ f64       ┆ f64      │\n",
       "╞═══════════╪═══════════╪═══════════╪═══════════╪═══╪═══════════╪═══════════╪═══════════╪══════════╡\n",
       "│ Print     ┆ 38.0      ┆ 1.716388  ┆ 49.066169 ┆ … ┆ 1.5       ┆ 37.848143 ┆ null      ┆ 0.0      │\n",
       "│ Audio     ┆ null      ┆ 0.17894   ┆ 19.685039 ┆ … ┆ null      ┆ 11.942762 ┆ null      ┆ 1327.666 │\n",
       "│           ┆           ┆           ┆           ┆   ┆           ┆           ┆           ┆ 667      │\n",
       "│ Software  ┆ null      ┆ null      ┆ null      ┆ … ┆ null      ┆ null      ┆ null      ┆ null     │\n",
       "│ Design    ┆ 77.860067 ┆ 25.939486 ┆ 18.215681 ┆ … ┆ 523.13343 ┆ 50.063999 ┆ null      ┆ 6593.166 │\n",
       "│           ┆           ┆           ┆           ┆   ┆ 3         ┆           ┆           ┆ 667      │\n",
       "│ Sculpture ┆ null      ┆ 57.139591 ┆ 106.08507 ┆ … ┆ 1387.6321 ┆ 103.90752 ┆ null      ┆ 1860.0   │\n",
       "│           ┆           ┆           ┆ 9         ┆   ┆ 47        ┆ 7         ┆           ┆          │\n",
       "│ …         ┆ …         ┆ …         ┆ …         ┆ … ┆ …         ┆ …         ┆ …         ┆ …        │\n",
       "│ Frank     ┆ null      ┆ 3.738871  ┆ 26.670053 ┆ … ┆ null      ┆ 70.306716 ┆ null      ┆ null     │\n",
       "│ Lloyd     ┆           ┆           ┆           ┆   ┆           ┆           ┆           ┆          │\n",
       "│ Wright    ┆           ┆           ┆           ┆   ┆           ┆           ┆           ┆          │\n",
       "│ Archive   ┆           ┆           ┆           ┆   ┆           ┆           ┆           ┆          │\n",
       "│ Film      ┆ null      ┆ null      ┆ null      ┆ … ┆ null      ┆ 9.4       ┆ null      ┆ null     │\n",
       "│ (object)  ┆           ┆           ┆           ┆   ┆           ┆           ┆           ┆          │\n",
       "│ Ephemera  ┆ null      ┆ 1.322905  ┆ 4.75      ┆ … ┆ null      ┆ 24.492504 ┆ null      ┆ null     │\n",
       "│ Digital   ┆ null      ┆ null      ┆ null      ┆ … ┆ null      ┆ null      ┆ null      ┆ 4590.0   │\n",
       "│ Mies van  ┆ null      ┆ 22.5      ┆ null      ┆ … ┆ 90.7194   ┆ 56.195844 ┆ null      ┆ null     │\n",
       "│ der Rohe  ┆           ┆           ┆           ┆   ┆           ┆           ┆           ┆          │\n",
       "│ Archive   ┆           ┆           ┆           ┆   ┆           ┆           ┆           ┆          │\n",
       "└───────────┴───────────┴───────────┴───────────┴───┴───────────┴───────────┴───────────┴──────────┘"
      ]
     },
     "execution_count": 14,
     "metadata": {},
     "output_type": "execute_result"
    }
   ],
   "source": [
    "# Unpacking positional arguments\n",
    "(artwork\n",
    " .group_by('Classification')\n",
    " .agg(*dimension_col_means(artwork)\n",
    "     )\n",
    ")"
   ]
  },
  {
   "cell_type": "markdown",
   "metadata": {},
   "source": [
    "## <font color=\"red\"> Exercise 3.6</font>\n",
    "\n",
    "Now suppose that we want to compute both the mean and standard deviation of each dimension.  Perform this task using an approach to the one shown above, this the results as DRY as possible. **Hint.** You can add two lists of transformations."
   ]
  },
  {
   "cell_type": "code",
   "execution_count": 18,
   "metadata": {},
   "outputs": [],
   "source": [
    "compute_mean = lambda col: pl.col(col).mean().alias(f'Mean {col}')"
   ]
  },
  {
   "cell_type": "code",
   "execution_count": 30,
   "metadata": {},
   "outputs": [],
   "source": [
    "compute_std = lambda col: pl.col(col).std().alias(f'Std {col}')"
   ]
  },
  {
   "cell_type": "code",
   "execution_count": 42,
   "metadata": {},
   "outputs": [],
   "source": [
    "dimension_col_means = lambda df: [compute_mean(c) for c in df.columns if c.endswith(')')]"
   ]
  },
  {
   "cell_type": "code",
   "execution_count": 51,
   "metadata": {},
   "outputs": [],
   "source": [
    "dimension_col_std = lambda df: [compute_std(c) for c in df.columns if c.endswith(')')]"
   ]
  },
  {
   "cell_type": "code",
   "execution_count": 79,
   "metadata": {},
   "outputs": [
    {
     "data": {
      "text/html": [
       "<div><style>\n",
       ".dataframe > thead > tr,\n",
       ".dataframe > tbody > tr {\n",
       "  text-align: right;\n",
       "  white-space: pre-wrap;\n",
       "}\n",
       "</style>\n",
       "<small>shape: (32, 10)</small><table border=\"1\" class=\"dataframe\"><thead><tr><th>Classification</th><th>Std Circumference (cm)</th><th>Std Depth (cm)</th><th>Std Diameter (cm)</th><th>Std Height (cm)</th><th>Std Length (cm)</th><th>Std Weight (kg)</th><th>Std Width (cm)</th><th>Std Seat Height (cm)</th><th>Std Duration (sec.)</th></tr><tr><td>str</td><td>f64</td><td>f64</td><td>f64</td><td>f64</td><td>f64</td><td>f64</td><td>f64</td><td>f64</td><td>f64</td></tr></thead><tbody><tr><td>&quot;Drawing&quot;</td><td>null</td><td>5.541451</td><td>113.141927</td><td>37.563622</td><td>null</td><td>21.168939</td><td>126.541794</td><td>null</td><td>null</td></tr><tr><td>&quot;Work on Paper&quot;</td><td>null</td><td>9.317436</td><td>null</td><td>56.24971</td><td>null</td><td>null</td><td>250.423161</td><td>null</td><td>null</td></tr><tr><td>&quot;Digital&quot;</td><td>null</td><td>null</td><td>null</td><td>null</td><td>null</td><td>null</td><td>null</td><td>null</td><td>7364.007061</td></tr><tr><td>&quot;Sculpture&quot;</td><td>null</td><td>96.724075</td><td>178.014519</td><td>248.935986</td><td>337.211086</td><td>12544.483721</td><td>151.869626</td><td>null</td><td>null</td></tr><tr><td>&quot;Ephemera&quot;</td><td>null</td><td>8.041355</td><td>1.06066</td><td>17.979945</td><td>4.041123</td><td>null</td><td>25.435286</td><td>null</td><td>null</td></tr><tr><td>&hellip;</td><td>&hellip;</td><td>&hellip;</td><td>&hellip;</td><td>&hellip;</td><td>&hellip;</td><td>&hellip;</td><td>&hellip;</td><td>&hellip;</td><td>&hellip;</td></tr><tr><td>&quot;Illustrated Book&quot;</td><td>null</td><td>13.199276</td><td>9.790423</td><td>12.668747</td><td>11.32001</td><td>null</td><td>14.614537</td><td>null</td><td>null</td></tr><tr><td>&quot;Mies van der Rohe Archive&quot;</td><td>null</td><td>59.529404</td><td>null</td><td>25.204271</td><td>null</td><td>null</td><td>38.151564</td><td>null</td><td>null</td></tr><tr><td>&quot;Collage&quot;</td><td>null</td><td>1.402485</td><td>null</td><td>18.081858</td><td>null</td><td>null</td><td>24.304539</td><td>null</td><td>null</td></tr><tr><td>&quot;Audio&quot;</td><td>null</td><td>0.853181</td><td>3.810008</td><td>13.160657</td><td>null</td><td>null</td><td>13.180622</td><td>null</td><td>1350.554084</td></tr><tr><td>&quot;Poster&quot;</td><td>null</td><td>null</td><td>null</td><td>31.790349</td><td>null</td><td>null</td><td>19.864102</td><td>null</td><td>null</td></tr></tbody></table></div>"
      ],
      "text/plain": [
       "shape: (32, 10)\n",
       "┌───────────┬───────────┬───────────┬───────────┬───┬───────────┬───────────┬───────────┬──────────┐\n",
       "│ Classific ┆ Std Circu ┆ Std Depth ┆ Std       ┆ … ┆ Std       ┆ Std Width ┆ Std Seat  ┆ Std      │\n",
       "│ ation     ┆ mference  ┆ (cm)      ┆ Diameter  ┆   ┆ Weight    ┆ (cm)      ┆ Height    ┆ Duration │\n",
       "│ ---       ┆ (cm)      ┆ ---       ┆ (cm)      ┆   ┆ (kg)      ┆ ---       ┆ (cm)      ┆ (sec.)   │\n",
       "│ str       ┆ ---       ┆ f64       ┆ ---       ┆   ┆ ---       ┆ f64       ┆ ---       ┆ ---      │\n",
       "│           ┆ f64       ┆           ┆ f64       ┆   ┆ f64       ┆           ┆ f64       ┆ f64      │\n",
       "╞═══════════╪═══════════╪═══════════╪═══════════╪═══╪═══════════╪═══════════╪═══════════╪══════════╡\n",
       "│ Drawing   ┆ null      ┆ 5.541451  ┆ 113.14192 ┆ … ┆ 21.168939 ┆ 126.54179 ┆ null      ┆ null     │\n",
       "│           ┆           ┆           ┆ 7         ┆   ┆           ┆ 4         ┆           ┆          │\n",
       "│ Work on   ┆ null      ┆ 9.317436  ┆ null      ┆ … ┆ null      ┆ 250.42316 ┆ null      ┆ null     │\n",
       "│ Paper     ┆           ┆           ┆           ┆   ┆           ┆ 1         ┆           ┆          │\n",
       "│ Digital   ┆ null      ┆ null      ┆ null      ┆ … ┆ null      ┆ null      ┆ null      ┆ 7364.007 │\n",
       "│           ┆           ┆           ┆           ┆   ┆           ┆           ┆           ┆ 061      │\n",
       "│ Sculpture ┆ null      ┆ 96.724075 ┆ 178.01451 ┆ … ┆ 12544.483 ┆ 151.86962 ┆ null      ┆ null     │\n",
       "│           ┆           ┆           ┆ 9         ┆   ┆ 721       ┆ 6         ┆           ┆          │\n",
       "│ Ephemera  ┆ null      ┆ 8.041355  ┆ 1.06066   ┆ … ┆ null      ┆ 25.435286 ┆ null      ┆ null     │\n",
       "│ …         ┆ …         ┆ …         ┆ …         ┆ … ┆ …         ┆ …         ┆ …         ┆ …        │\n",
       "│ Illustrat ┆ null      ┆ 13.199276 ┆ 9.790423  ┆ … ┆ null      ┆ 14.614537 ┆ null      ┆ null     │\n",
       "│ ed Book   ┆           ┆           ┆           ┆   ┆           ┆           ┆           ┆          │\n",
       "│ Mies van  ┆ null      ┆ 59.529404 ┆ null      ┆ … ┆ null      ┆ 38.151564 ┆ null      ┆ null     │\n",
       "│ der Rohe  ┆           ┆           ┆           ┆   ┆           ┆           ┆           ┆          │\n",
       "│ Archive   ┆           ┆           ┆           ┆   ┆           ┆           ┆           ┆          │\n",
       "│ Collage   ┆ null      ┆ 1.402485  ┆ null      ┆ … ┆ null      ┆ 24.304539 ┆ null      ┆ null     │\n",
       "│ Audio     ┆ null      ┆ 0.853181  ┆ 3.810008  ┆ … ┆ null      ┆ 13.180622 ┆ null      ┆ 1350.554 │\n",
       "│           ┆           ┆           ┆           ┆   ┆           ┆           ┆           ┆ 084      │\n",
       "│ Poster    ┆ null      ┆ null      ┆ null      ┆ … ┆ null      ┆ 19.864102 ┆ null      ┆ null     │\n",
       "└───────────┴───────────┴───────────┴───────────┴───┴───────────┴───────────┴───────────┴──────────┘"
      ]
     },
     "execution_count": 79,
     "metadata": {},
     "output_type": "execute_result"
    }
   ],
   "source": [
    "(artwork\n",
    " .group_by('Classification')\n",
    " .agg(\n",
    "      dimension_col_std(artwork)\n",
    "     )\n",
    ")"
   ]
  },
  {
   "cell_type": "code",
   "execution_count": 72,
   "metadata": {},
   "outputs": [],
   "source": [
    "dimension_col_means_std = lambda df: [(compute_mean(c), compute_std(c)) for c in df.columns if c.endswith(')')]"
   ]
  },
  {
   "cell_type": "code",
   "execution_count": 78,
   "metadata": {},
   "outputs": [
    {
     "ename": "TypeError",
     "evalue": "not yet implemented: Nested object types\n\nHint: Try setting `strict=False` to allow passing data with mixed types.",
     "output_type": "error",
     "traceback": [
      "\u001b[1;31m---------------------------------------------------------------------------\u001b[0m",
      "\u001b[1;31mTypeError\u001b[0m                                 Traceback (most recent call last)",
      "Cell \u001b[1;32mIn[78], line 4\u001b[0m\n\u001b[0;32m      1\u001b[0m \u001b[38;5;66;03m# List of input expressions\u001b[39;00m\n\u001b[0;32m      2\u001b[0m (\u001b[43martwork\u001b[49m\n\u001b[0;32m      3\u001b[0m \u001b[43m \u001b[49m\u001b[38;5;241;43m.\u001b[39;49m\u001b[43mgroup_by\u001b[49m\u001b[43m(\u001b[49m\u001b[38;5;124;43m'\u001b[39;49m\u001b[38;5;124;43mClassification\u001b[39;49m\u001b[38;5;124;43m'\u001b[39;49m\u001b[43m)\u001b[49m\n\u001b[1;32m----> 4\u001b[0m \u001b[43m \u001b[49m\u001b[38;5;241;43m.\u001b[39;49m\u001b[43magg\u001b[49m\u001b[43m(\u001b[49m\n\u001b[0;32m      5\u001b[0m \u001b[43m      \u001b[49m\u001b[43mdimension_col_means_std\u001b[49m\u001b[43m(\u001b[49m\u001b[43martwork\u001b[49m\u001b[43m)\u001b[49m\n\u001b[0;32m      6\u001b[0m \u001b[43m     \u001b[49m\u001b[43m)\u001b[49m\n\u001b[0;32m      7\u001b[0m )\n",
      "File \u001b[1;32m~\\AppData\\Local\\anaconda3\\envs\\polars\\Lib\\site-packages\\polars\\dataframe\\group_by.py:229\u001b[0m, in \u001b[0;36mGroupBy.agg\u001b[1;34m(self, *aggs, **named_aggs)\u001b[0m\n\u001b[0;32m    123\u001b[0m \u001b[38;5;28;01mdef\u001b[39;00m \u001b[38;5;21magg\u001b[39m(\n\u001b[0;32m    124\u001b[0m     \u001b[38;5;28mself\u001b[39m,\n\u001b[0;32m    125\u001b[0m     \u001b[38;5;241m*\u001b[39maggs: IntoExpr \u001b[38;5;241m|\u001b[39m Iterable[IntoExpr],\n\u001b[0;32m    126\u001b[0m     \u001b[38;5;241m*\u001b[39m\u001b[38;5;241m*\u001b[39mnamed_aggs: IntoExpr,\n\u001b[0;32m    127\u001b[0m ) \u001b[38;5;241m-\u001b[39m\u001b[38;5;241m>\u001b[39m DataFrame:\n\u001b[0;32m    128\u001b[0m \u001b[38;5;250m    \u001b[39m\u001b[38;5;124;03m\"\"\"\u001b[39;00m\n\u001b[0;32m    129\u001b[0m \u001b[38;5;124;03m    Compute aggregations for each group of a group by operation.\u001b[39;00m\n\u001b[0;32m    130\u001b[0m \n\u001b[1;32m   (...)\u001b[0m\n\u001b[0;32m    226\u001b[0m \u001b[38;5;124;03m    └─────┴───────┴────────────────┘\u001b[39;00m\n\u001b[0;32m    227\u001b[0m \u001b[38;5;124;03m    \"\"\"\u001b[39;00m\n\u001b[0;32m    228\u001b[0m     \u001b[38;5;28;01mreturn\u001b[39;00m (\n\u001b[1;32m--> 229\u001b[0m         \u001b[38;5;28;43mself\u001b[39;49m\u001b[38;5;241;43m.\u001b[39;49m\u001b[43mdf\u001b[49m\u001b[38;5;241;43m.\u001b[39;49m\u001b[43mlazy\u001b[49m\u001b[43m(\u001b[49m\u001b[43m)\u001b[49m\n\u001b[0;32m    230\u001b[0m \u001b[43m        \u001b[49m\u001b[38;5;241;43m.\u001b[39;49m\u001b[43mgroup_by\u001b[49m\u001b[43m(\u001b[49m\u001b[38;5;241;43m*\u001b[39;49m\u001b[38;5;28;43mself\u001b[39;49m\u001b[38;5;241;43m.\u001b[39;49m\u001b[43mby\u001b[49m\u001b[43m,\u001b[49m\u001b[43m \u001b[49m\u001b[38;5;241;43m*\u001b[39;49m\u001b[38;5;241;43m*\u001b[39;49m\u001b[38;5;28;43mself\u001b[39;49m\u001b[38;5;241;43m.\u001b[39;49m\u001b[43mnamed_by\u001b[49m\u001b[43m,\u001b[49m\u001b[43m \u001b[49m\u001b[43mmaintain_order\u001b[49m\u001b[38;5;241;43m=\u001b[39;49m\u001b[38;5;28;43mself\u001b[39;49m\u001b[38;5;241;43m.\u001b[39;49m\u001b[43mmaintain_order\u001b[49m\u001b[43m)\u001b[49m\n\u001b[0;32m    231\u001b[0m \u001b[43m        \u001b[49m\u001b[38;5;241;43m.\u001b[39;49m\u001b[43magg\u001b[49m\u001b[43m(\u001b[49m\u001b[38;5;241;43m*\u001b[39;49m\u001b[43maggs\u001b[49m\u001b[43m,\u001b[49m\u001b[43m \u001b[49m\u001b[38;5;241;43m*\u001b[39;49m\u001b[38;5;241;43m*\u001b[39;49m\u001b[43mnamed_aggs\u001b[49m\u001b[43m)\u001b[49m\n\u001b[0;32m    232\u001b[0m         \u001b[38;5;241m.\u001b[39mcollect(no_optimization\u001b[38;5;241m=\u001b[39m\u001b[38;5;28;01mTrue\u001b[39;00m)\n\u001b[0;32m    233\u001b[0m     )\n",
      "File \u001b[1;32m~\\AppData\\Local\\anaconda3\\envs\\polars\\Lib\\site-packages\\polars\\lazyframe\\group_by.py:147\u001b[0m, in \u001b[0;36mLazyGroupBy.agg\u001b[1;34m(self, *aggs, **named_aggs)\u001b[0m\n\u001b[0;32m    140\u001b[0m     msg \u001b[38;5;241m=\u001b[39m (\n\u001b[0;32m    141\u001b[0m         \u001b[38;5;124m\"\u001b[39m\u001b[38;5;124mspecifying aggregations as a dictionary is not supported\u001b[39m\u001b[38;5;124m\"\u001b[39m\n\u001b[0;32m    142\u001b[0m         \u001b[38;5;124m\"\u001b[39m\u001b[38;5;130;01m\\n\u001b[39;00m\u001b[38;5;130;01m\\n\u001b[39;00m\u001b[38;5;124mTry unpacking the dictionary to take advantage of the keyword syntax\u001b[39m\u001b[38;5;124m\"\u001b[39m\n\u001b[0;32m    143\u001b[0m         \u001b[38;5;124m\"\u001b[39m\u001b[38;5;124m of the `agg` method.\u001b[39m\u001b[38;5;124m\"\u001b[39m\n\u001b[0;32m    144\u001b[0m     )\n\u001b[0;32m    145\u001b[0m     \u001b[38;5;28;01mraise\u001b[39;00m \u001b[38;5;167;01mTypeError\u001b[39;00m(msg)\n\u001b[1;32m--> 147\u001b[0m pyexprs \u001b[38;5;241m=\u001b[39m \u001b[43mparse_into_list_of_expressions\u001b[49m\u001b[43m(\u001b[49m\u001b[38;5;241;43m*\u001b[39;49m\u001b[43maggs\u001b[49m\u001b[43m,\u001b[49m\u001b[43m \u001b[49m\u001b[38;5;241;43m*\u001b[39;49m\u001b[38;5;241;43m*\u001b[39;49m\u001b[43mnamed_aggs\u001b[49m\u001b[43m)\u001b[49m\n\u001b[0;32m    148\u001b[0m \u001b[38;5;28;01mreturn\u001b[39;00m wrap_ldf(\u001b[38;5;28mself\u001b[39m\u001b[38;5;241m.\u001b[39mlgb\u001b[38;5;241m.\u001b[39magg(pyexprs))\n",
      "File \u001b[1;32m~\\AppData\\Local\\anaconda3\\envs\\polars\\Lib\\site-packages\\polars\\_utils\\parse\\expr.py:100\u001b[0m, in \u001b[0;36mparse_into_list_of_expressions\u001b[1;34m(__structify, *inputs, **named_inputs)\u001b[0m\n\u001b[0;32m     78\u001b[0m \u001b[38;5;28;01mdef\u001b[39;00m \u001b[38;5;21mparse_into_list_of_expressions\u001b[39m(\n\u001b[0;32m     79\u001b[0m     \u001b[38;5;241m*\u001b[39minputs: IntoExpr \u001b[38;5;241m|\u001b[39m Iterable[IntoExpr],\n\u001b[0;32m     80\u001b[0m     __structify: \u001b[38;5;28mbool\u001b[39m \u001b[38;5;241m=\u001b[39m \u001b[38;5;28;01mFalse\u001b[39;00m,\n\u001b[0;32m     81\u001b[0m     \u001b[38;5;241m*\u001b[39m\u001b[38;5;241m*\u001b[39mnamed_inputs: IntoExpr,\n\u001b[0;32m     82\u001b[0m ) \u001b[38;5;241m-\u001b[39m\u001b[38;5;241m>\u001b[39m \u001b[38;5;28mlist\u001b[39m[PyExpr]:\n\u001b[0;32m     83\u001b[0m \u001b[38;5;250m    \u001b[39m\u001b[38;5;124;03m\"\"\"\u001b[39;00m\n\u001b[0;32m     84\u001b[0m \u001b[38;5;124;03m    Parse multiple inputs into a list of expressions.\u001b[39;00m\n\u001b[0;32m     85\u001b[0m \n\u001b[1;32m   (...)\u001b[0m\n\u001b[0;32m     98\u001b[0m \u001b[38;5;124;03m    list of PyExpr\u001b[39;00m\n\u001b[0;32m     99\u001b[0m \u001b[38;5;124;03m    \"\"\"\u001b[39;00m\n\u001b[1;32m--> 100\u001b[0m     exprs \u001b[38;5;241m=\u001b[39m \u001b[43m_parse_positional_inputs\u001b[49m\u001b[43m(\u001b[49m\u001b[43minputs\u001b[49m\u001b[43m,\u001b[49m\u001b[43m \u001b[49m\u001b[43mstructify\u001b[49m\u001b[38;5;241;43m=\u001b[39;49m\u001b[43m__structify\u001b[49m\u001b[43m)\u001b[49m  \u001b[38;5;66;03m# type: ignore[arg-type]\u001b[39;00m\n\u001b[0;32m    101\u001b[0m     \u001b[38;5;28;01mif\u001b[39;00m named_inputs:\n\u001b[0;32m    102\u001b[0m         named_exprs \u001b[38;5;241m=\u001b[39m _parse_named_inputs(named_inputs, structify\u001b[38;5;241m=\u001b[39m__structify)\n",
      "File \u001b[1;32m~\\AppData\\Local\\anaconda3\\envs\\polars\\Lib\\site-packages\\polars\\_utils\\parse\\expr.py:114\u001b[0m, in \u001b[0;36m_parse_positional_inputs\u001b[1;34m(inputs, structify)\u001b[0m\n\u001b[0;32m    108\u001b[0m \u001b[38;5;28;01mdef\u001b[39;00m \u001b[38;5;21m_parse_positional_inputs\u001b[39m(\n\u001b[0;32m    109\u001b[0m     inputs: \u001b[38;5;28mtuple\u001b[39m[IntoExpr, \u001b[38;5;241m.\u001b[39m\u001b[38;5;241m.\u001b[39m\u001b[38;5;241m.\u001b[39m] \u001b[38;5;241m|\u001b[39m \u001b[38;5;28mtuple\u001b[39m[Iterable[IntoExpr]],\n\u001b[0;32m    110\u001b[0m     \u001b[38;5;241m*\u001b[39m,\n\u001b[0;32m    111\u001b[0m     structify: \u001b[38;5;28mbool\u001b[39m \u001b[38;5;241m=\u001b[39m \u001b[38;5;28;01mFalse\u001b[39;00m,\n\u001b[0;32m    112\u001b[0m ) \u001b[38;5;241m-\u001b[39m\u001b[38;5;241m>\u001b[39m \u001b[38;5;28mlist\u001b[39m[PyExpr]:\n\u001b[0;32m    113\u001b[0m     inputs_iter \u001b[38;5;241m=\u001b[39m _parse_inputs_as_iterable(inputs)\n\u001b[1;32m--> 114\u001b[0m     \u001b[38;5;28;01mreturn\u001b[39;00m [\u001b[43mparse_into_expression\u001b[49m\u001b[43m(\u001b[49m\u001b[43me\u001b[49m\u001b[43m,\u001b[49m\u001b[43m \u001b[49m\u001b[43mstructify\u001b[49m\u001b[38;5;241;43m=\u001b[39;49m\u001b[43mstructify\u001b[49m\u001b[43m)\u001b[49m \u001b[38;5;28;01mfor\u001b[39;00m e \u001b[38;5;129;01min\u001b[39;00m inputs_iter]\n",
      "File \u001b[1;32m~\\AppData\\Local\\anaconda3\\envs\\polars\\Lib\\site-packages\\polars\\_utils\\parse\\expr.py:61\u001b[0m, in \u001b[0;36mparse_into_expression\u001b[1;34m(input, str_as_lit, list_as_series, structify, dtype)\u001b[0m\n\u001b[0;32m     59\u001b[0m     expr \u001b[38;5;241m=\u001b[39m F\u001b[38;5;241m.\u001b[39mlit(pl\u001b[38;5;241m.\u001b[39mSeries(\u001b[38;5;28minput\u001b[39m), dtype\u001b[38;5;241m=\u001b[39mdtype)\n\u001b[0;32m     60\u001b[0m \u001b[38;5;28;01melse\u001b[39;00m:\n\u001b[1;32m---> 61\u001b[0m     expr \u001b[38;5;241m=\u001b[39m \u001b[43mF\u001b[49m\u001b[38;5;241;43m.\u001b[39;49m\u001b[43mlit\u001b[49m\u001b[43m(\u001b[49m\u001b[38;5;28;43minput\u001b[39;49m\u001b[43m,\u001b[49m\u001b[43m \u001b[49m\u001b[43mdtype\u001b[49m\u001b[38;5;241;43m=\u001b[39;49m\u001b[43mdtype\u001b[49m\u001b[43m)\u001b[49m\n\u001b[0;32m     63\u001b[0m \u001b[38;5;28;01mreturn\u001b[39;00m expr\u001b[38;5;241m.\u001b[39m_pyexpr\n",
      "File \u001b[1;32m~\\AppData\\Local\\anaconda3\\envs\\polars\\Lib\\site-packages\\polars\\functions\\lit.py:146\u001b[0m, in \u001b[0;36mlit\u001b[1;34m(value, dtype, allow_object)\u001b[0m\n\u001b[0;32m    141\u001b[0m     \u001b[38;5;28;01mreturn\u001b[39;00m lit(pl\u001b[38;5;241m.\u001b[39mSeries(\u001b[38;5;124m\"\u001b[39m\u001b[38;5;124mliteral\u001b[39m\u001b[38;5;124m\"\u001b[39m, value, dtype\u001b[38;5;241m=\u001b[39mdtype))\n\u001b[0;32m    143\u001b[0m \u001b[38;5;28;01melif\u001b[39;00m \u001b[38;5;28misinstance\u001b[39m(value, (\u001b[38;5;28mlist\u001b[39m, \u001b[38;5;28mtuple\u001b[39m)):\n\u001b[0;32m    144\u001b[0m     \u001b[38;5;28;01mreturn\u001b[39;00m wrap_expr(\n\u001b[0;32m    145\u001b[0m         plr\u001b[38;5;241m.\u001b[39mlit(\n\u001b[1;32m--> 146\u001b[0m             \u001b[43mpl\u001b[49m\u001b[38;5;241;43m.\u001b[39;49m\u001b[43mSeries\u001b[49m\u001b[43m(\u001b[49m\u001b[38;5;124;43m\"\u001b[39;49m\u001b[38;5;124;43mliteral\u001b[39;49m\u001b[38;5;124;43m\"\u001b[39;49m\u001b[43m,\u001b[49m\u001b[43m \u001b[49m\u001b[43m[\u001b[49m\u001b[43mvalue\u001b[49m\u001b[43m]\u001b[49m\u001b[43m,\u001b[49m\u001b[43m \u001b[49m\u001b[43mdtype\u001b[49m\u001b[38;5;241;43m=\u001b[39;49m\u001b[43mdtype\u001b[49m\u001b[43m)\u001b[49m\u001b[38;5;241m.\u001b[39m_s,\n\u001b[0;32m    147\u001b[0m             allow_object,\n\u001b[0;32m    148\u001b[0m             is_scalar\u001b[38;5;241m=\u001b[39m\u001b[38;5;28;01mTrue\u001b[39;00m,\n\u001b[0;32m    149\u001b[0m         )\n\u001b[0;32m    150\u001b[0m     )\n\u001b[0;32m    152\u001b[0m \u001b[38;5;28;01melif\u001b[39;00m \u001b[38;5;28misinstance\u001b[39m(value, enum\u001b[38;5;241m.\u001b[39mEnum):\n\u001b[0;32m    153\u001b[0m     lit_value \u001b[38;5;241m=\u001b[39m value\u001b[38;5;241m.\u001b[39mvalue\n",
      "File \u001b[1;32m~\\AppData\\Local\\anaconda3\\envs\\polars\\Lib\\site-packages\\polars\\series\\series.py:289\u001b[0m, in \u001b[0;36mSeries.__init__\u001b[1;34m(self, name, values, dtype, strict, nan_to_null)\u001b[0m\n\u001b[0;32m    286\u001b[0m         \u001b[38;5;28;01mraise\u001b[39;00m \u001b[38;5;167;01mTypeError\u001b[39;00m(msg)\n\u001b[0;32m    288\u001b[0m \u001b[38;5;28;01mif\u001b[39;00m \u001b[38;5;28misinstance\u001b[39m(values, Sequence):\n\u001b[1;32m--> 289\u001b[0m     \u001b[38;5;28mself\u001b[39m\u001b[38;5;241m.\u001b[39m_s \u001b[38;5;241m=\u001b[39m \u001b[43msequence_to_pyseries\u001b[49m\u001b[43m(\u001b[49m\n\u001b[0;32m    290\u001b[0m \u001b[43m        \u001b[49m\u001b[43mname\u001b[49m\u001b[43m,\u001b[49m\n\u001b[0;32m    291\u001b[0m \u001b[43m        \u001b[49m\u001b[43mvalues\u001b[49m\u001b[43m,\u001b[49m\n\u001b[0;32m    292\u001b[0m \u001b[43m        \u001b[49m\u001b[43mdtype\u001b[49m\u001b[38;5;241;43m=\u001b[39;49m\u001b[43mdtype\u001b[49m\u001b[43m,\u001b[49m\n\u001b[0;32m    293\u001b[0m \u001b[43m        \u001b[49m\u001b[43mstrict\u001b[49m\u001b[38;5;241;43m=\u001b[39;49m\u001b[43mstrict\u001b[49m\u001b[43m,\u001b[49m\n\u001b[0;32m    294\u001b[0m \u001b[43m        \u001b[49m\u001b[43mnan_to_null\u001b[49m\u001b[38;5;241;43m=\u001b[39;49m\u001b[43mnan_to_null\u001b[49m\u001b[43m,\u001b[49m\n\u001b[0;32m    295\u001b[0m \u001b[43m    \u001b[49m\u001b[43m)\u001b[49m\n\u001b[0;32m    297\u001b[0m \u001b[38;5;28;01melif\u001b[39;00m values \u001b[38;5;129;01mis\u001b[39;00m \u001b[38;5;28;01mNone\u001b[39;00m:\n\u001b[0;32m    298\u001b[0m     \u001b[38;5;28mself\u001b[39m\u001b[38;5;241m.\u001b[39m_s \u001b[38;5;241m=\u001b[39m sequence_to_pyseries(name, [], dtype\u001b[38;5;241m=\u001b[39mdtype)\n",
      "File \u001b[1;32m~\\AppData\\Local\\anaconda3\\envs\\polars\\Lib\\site-packages\\polars\\_utils\\construction\\series.py:244\u001b[0m, in \u001b[0;36msequence_to_pyseries\u001b[1;34m(name, values, dtype, strict, nan_to_null)\u001b[0m\n\u001b[0;32m    242\u001b[0m \u001b[38;5;28;01melif\u001b[39;00m python_dtype \u001b[38;5;129;01min\u001b[39;00m (\u001b[38;5;28mlist\u001b[39m, \u001b[38;5;28mtuple\u001b[39m):\n\u001b[0;32m    243\u001b[0m     \u001b[38;5;28;01mif\u001b[39;00m dtype \u001b[38;5;129;01mis\u001b[39;00m \u001b[38;5;28;01mNone\u001b[39;00m:\n\u001b[1;32m--> 244\u001b[0m         \u001b[38;5;28;01mreturn\u001b[39;00m \u001b[43mPySeries\u001b[49m\u001b[38;5;241;43m.\u001b[39;49m\u001b[43mnew_from_any_values\u001b[49m\u001b[43m(\u001b[49m\u001b[43mname\u001b[49m\u001b[43m,\u001b[49m\u001b[43m \u001b[49m\u001b[43mvalues\u001b[49m\u001b[43m,\u001b[49m\u001b[43m \u001b[49m\u001b[43mstrict\u001b[49m\u001b[38;5;241;43m=\u001b[39;49m\u001b[43mstrict\u001b[49m\u001b[43m)\u001b[49m\n\u001b[0;32m    245\u001b[0m     \u001b[38;5;28;01melif\u001b[39;00m dtype \u001b[38;5;241m==\u001b[39m Object:\n\u001b[0;32m    246\u001b[0m         \u001b[38;5;28;01mreturn\u001b[39;00m PySeries\u001b[38;5;241m.\u001b[39mnew_object(name, values, strict)\n",
      "\u001b[1;31mTypeError\u001b[0m: not yet implemented: Nested object types\n\nHint: Try setting `strict=False` to allow passing data with mixed types."
     ]
    }
   ],
   "source": [
    "# List of input expressions\n",
    "(artwork\n",
    " .group_by('Classification')\n",
    " .agg(\n",
    "      dimension_col_means_std(artwork)\n",
    "     )\n",
    ")"
   ]
  },
  {
   "cell_type": "code",
   "execution_count": null,
   "metadata": {},
   "outputs": [],
   "source": []
  }
 ],
 "metadata": {
  "kernelspec": {
   "display_name": "Python 3 (ipykernel)",
   "language": "python",
   "name": "python3"
  },
  "language_info": {
   "codemirror_mode": {
    "name": "ipython",
    "version": 3
   },
   "file_extension": ".py",
   "mimetype": "text/x-python",
   "name": "python",
   "nbconvert_exporter": "python",
   "pygments_lexer": "ipython3",
   "version": "3.12.7"
  },
  "varInspector": {
   "cols": {
    "lenName": 16,
    "lenType": 16,
    "lenVar": 40
   },
   "kernels_config": {
    "python": {
     "delete_cmd_postfix": "",
     "delete_cmd_prefix": "del ",
     "library": "var_list.py",
     "varRefreshCmd": "print(var_dic_list())"
    },
    "r": {
     "delete_cmd_postfix": ") ",
     "delete_cmd_prefix": "rm(",
     "library": "var_list.r",
     "varRefreshCmd": "cat(var_dic_list()) "
    }
   },
   "types_to_exclude": [
    "module",
    "function",
    "builtin_function_or_method",
    "instance",
    "_Feature"
   ],
   "window_display": false
  }
 },
 "nbformat": 4,
 "nbformat_minor": 4
}
